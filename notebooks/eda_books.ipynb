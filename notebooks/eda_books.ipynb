{
 "cells": [
  {
   "cell_type": "code",
   "execution_count": 2,
   "metadata": {},
   "outputs": [],
   "source": [
    "import pandas as pd\n",
    "import numpy as np\n",
    "import seaborn\n",
    "import json\n",
    "from tqdm.notebook import tqdm\n",
    "from collections import Counter\n",
    "import plotly.express as px\n"
   ]
  },
  {
   "cell_type": "markdown",
   "metadata": {},
   "source": [
    "# Read data"
   ]
  },
  {
   "cell_type": "code",
   "execution_count": 27,
   "metadata": {},
   "outputs": [
    {
     "data": {
      "application/vnd.jupyter.widget-view+json": {
       "model_id": "47a07cd1f6c54d4d8658fae3c71aaa25",
       "version_major": 2,
       "version_minor": 0
      },
      "text/plain": [
       "  0%|          | 0/1000000 [00:00<?, ?it/s]"
      ]
     },
     "metadata": {},
     "output_type": "display_data"
    },
    {
     "data": {
      "application/vnd.jupyter.widget-view+json": {
       "model_id": "a95a5ac4dd1646f4a5afee2727a9c836",
       "version_major": 2,
       "version_minor": 0
      },
      "text/plain": [
       "  0%|          | 0/100000000 [00:00<?, ?it/s]"
      ]
     },
     "metadata": {},
     "output_type": "display_data"
    },
    {
     "name": "stdout",
     "output_type": "stream",
     "text": [
      "There are 12521 unique books in 500k first reviews.\n",
      "books.shape=(1000000, 12)\n",
      "books_meta.shape=(12521, 18)\n"
     ]
    }
   ],
   "source": [
    "def read_data(path: str, n: int = 100_000_000, filter_ids = None) -> pd.DataFrame:\n",
    "    items = []\n",
    "    with open(path, 'r') as data_file:      \n",
    "        for _ in tqdm(range(n)):\n",
    "            line = data_file.readline()\n",
    "            if not line:\n",
    "                break\n",
    "            json_line = json.loads(line)\n",
    "            if filter_ids is None:\n",
    "                items.append(json_line)\n",
    "            elif json_line['asin'] in filter_ids:\n",
    "                items.append(json_line)\n",
    "                if len(items) == len(filter_ids):\n",
    "                    break\n",
    "    return pd.DataFrame(items)\n",
    "\n",
    "books = read_data('../data/raw/Books_5.json', 1_000_000)\n",
    "book_ids = set(books['asin'].unique())\n",
    "books_meta = read_data('../data/raw/meta_Books.json', filter_ids=book_ids)\n",
    "print(f'There are {len(book_ids)} unique books in 500k first reviews.')\n",
    "print(f'{books.shape=}')\n",
    "print(f'{books_meta.shape=}')"
   ]
  },
  {
   "cell_type": "code",
   "execution_count": 33,
   "metadata": {},
   "outputs": [
    {
     "data": {
      "text/plain": [
       "[('Literature & Fiction', 1671),\n",
       " ('Mystery, Thriller & Suspense', 410),\n",
       " ('Biographies & Memoirs', 409),\n",
       " ('Growing Up & Facts of Life', 259),\n",
       " ('Politics & Social Sciences', 227),\n",
       " ('Teen & Young Adult', 220),\n",
       " ('Cookbooks, Food & Wine', 207),\n",
       " ('Christian Books & Bibles', 199),\n",
       " ('Thrillers & Suspense', 176),\n",
       " ('Science Fiction & Fantasy', 153),\n",
       " ('Business & Money', 147),\n",
       " ('Health, Fitness & Dieting', 135),\n",
       " ('Religion & Spirituality', 131),\n",
       " ('New, Used & Rental Textbooks', 130),\n",
       " ('Arts & Photography', 129),\n",
       " ('Politics & Government', 108),\n",
       " ('Humor & Entertainment', 99),\n",
       " ('Arts & Literature', 95),\n",
       " ('Science & Math', 84),\n",
       " ('Regional & International', 84)]"
      ]
     },
     "execution_count": 33,
     "metadata": {},
     "output_type": "execute_result"
    }
   ],
   "source": [
    "all_categories = np.concatenate(books_meta['category'].values)\n",
    "all_categories = [x if '&amp;' not in x else x.replace('&amp;', '&') for x in all_categories if '&amp;' in x]\n",
    "\n",
    "categories_counter = Counter(all_categories)\n",
    "most_common_categories = categories_counter.most_common(20)\n",
    "most_common_categories"
   ]
  },
  {
   "cell_type": "code",
   "execution_count": 34,
   "metadata": {},
   "outputs": [],
   "source": [
    "books_meta['category'] = books_meta['category'].apply(lambda x: set(x))"
   ]
  },
  {
   "cell_type": "code",
   "execution_count": 36,
   "metadata": {},
   "outputs": [
    {
     "data": {
      "text/plain": [
       "['Literature & Fiction',\n",
       " 'Mystery, Thriller & Suspense',\n",
       " 'Biographies & Memoirs',\n",
       " 'Growing Up & Facts of Life',\n",
       " 'Politics & Social Sciences',\n",
       " 'Teen & Young Adult',\n",
       " 'Cookbooks, Food & Wine',\n",
       " 'Christian Books & Bibles',\n",
       " 'Thrillers & Suspense',\n",
       " 'Science Fiction & Fantasy',\n",
       " 'Business & Money',\n",
       " 'Health, Fitness & Dieting',\n",
       " 'Religion & Spirituality',\n",
       " 'New, Used & Rental Textbooks',\n",
       " 'Arts & Photography',\n",
       " 'Politics & Government',\n",
       " 'Humor & Entertainment',\n",
       " 'Arts & Literature',\n",
       " 'Science & Math',\n",
       " 'Regional & International']"
      ]
     },
     "execution_count": 36,
     "metadata": {},
     "output_type": "execute_result"
    }
   ],
   "source": [
    "twenty_most_popular_categories = [(name, count, f'{count / books_meta.shape[0] * 100:.2f}%') for name, count in categories_counter.most_common(20)]\n",
    "twenty_most_popular_categories_names = [name for name, _, _ in twenty_most_popular_categories]\n",
    "twenty_most_popular_categories_names"
   ]
  },
  {
   "cell_type": "code",
   "execution_count": 37,
   "metadata": {},
   "outputs": [
    {
     "data": {
      "application/vnd.jupyter.widget-view+json": {
       "model_id": "783578a3ab554995a4d53fee8b9a0d79",
       "version_major": 2,
       "version_minor": 0
      },
      "text/plain": [
       "  0%|          | 0/20 [00:00<?, ?it/s]"
      ]
     },
     "metadata": {},
     "output_type": "display_data"
    }
   ],
   "source": [
    "for cat_name in tqdm(twenty_most_popular_categories_names):\n",
    "    books_meta[cat_name.replace(' ', '_').replace('&', 'and').replace(',', '_')] = books_meta['category'].apply(lambda x: int(cat_name in x))"
   ]
  },
  {
   "cell_type": "code",
   "execution_count": 51,
   "metadata": {},
   "outputs": [
    {
     "data": {
      "text/plain": [
       "Index(['category', 'tech1', 'description', 'fit', 'title', 'also_buy', 'tech2',\n",
       "       'brand', 'feature', 'rank', 'also_view', 'main_cat', 'similar_item',\n",
       "       'date', 'price', 'asin', 'imageURL', 'imageURLHighRes',\n",
       "       'Literature_and_Fiction', 'Mystery__Thriller_and_Suspense',\n",
       "       'Biographies_and_Memoirs', 'Growing_Up_and_Facts_of_Life',\n",
       "       'Politics_and_Social_Sciences', 'Teen_and_Young_Adult',\n",
       "       'Cookbooks__Food_and_Wine', 'Christian_Books_and_Bibles',\n",
       "       'Thrillers_and_Suspense', 'Science_Fiction_and_Fantasy',\n",
       "       'Business_and_Money', 'Health__Fitness_and_Dieting',\n",
       "       'Religion_and_Spirituality', 'New__Used_and_Rental_Textbooks',\n",
       "       'Arts_and_Photography', 'Politics_and_Government',\n",
       "       'Humor_and_Entertainment', 'Arts_and_Literature', 'Science_and_Math',\n",
       "       'Regional_and_International'],\n",
       "      dtype='object')"
      ]
     },
     "execution_count": 51,
     "metadata": {},
     "output_type": "execute_result"
    }
   ],
   "source": [
    "# books_meta['description'][:10].values\n",
    "books_meta.columns"
   ]
  },
  {
   "cell_type": "code",
   "execution_count": 58,
   "metadata": {},
   "outputs": [
    {
     "name": "stdout",
     "output_type": "stream",
     "text": [
      "Each book presents once in metadata dataset\n"
     ]
    }
   ],
   "source": [
    "asin_value_counts = books_meta['asin'].value_counts()\n",
    "\n",
    "if asin_value_counts.max() == 1:\n",
    "    print('Each book presents once in metadata dataset')\n",
    "else:\n",
    "    print('There are duplicate \"asin\"-s in metadata dataset')"
   ]
  },
  {
   "cell_type": "code",
   "execution_count": 59,
   "metadata": {},
   "outputs": [
    {
     "data": {
      "text/html": [
       "<div>\n",
       "<style scoped>\n",
       "    .dataframe tbody tr th:only-of-type {\n",
       "        vertical-align: middle;\n",
       "    }\n",
       "\n",
       "    .dataframe tbody tr th {\n",
       "        vertical-align: top;\n",
       "    }\n",
       "\n",
       "    .dataframe thead th {\n",
       "        text-align: right;\n",
       "    }\n",
       "</style>\n",
       "<table border=\"1\" class=\"dataframe\">\n",
       "  <thead>\n",
       "    <tr style=\"text-align: right;\">\n",
       "      <th></th>\n",
       "      <th>overall</th>\n",
       "      <th>verified</th>\n",
       "      <th>reviewTime</th>\n",
       "      <th>reviewerID</th>\n",
       "      <th>asin</th>\n",
       "      <th>style</th>\n",
       "      <th>reviewerName</th>\n",
       "      <th>reviewText</th>\n",
       "      <th>summary</th>\n",
       "      <th>unixReviewTime</th>\n",
       "      <th>...</th>\n",
       "      <th>Business_and_Money</th>\n",
       "      <th>Health__Fitness_and_Dieting</th>\n",
       "      <th>Religion_and_Spirituality</th>\n",
       "      <th>New__Used_and_Rental_Textbooks</th>\n",
       "      <th>Arts_and_Photography</th>\n",
       "      <th>Politics_and_Government</th>\n",
       "      <th>Humor_and_Entertainment</th>\n",
       "      <th>Arts_and_Literature</th>\n",
       "      <th>Science_and_Math</th>\n",
       "      <th>Regional_and_International</th>\n",
       "    </tr>\n",
       "  </thead>\n",
       "  <tbody>\n",
       "    <tr>\n",
       "      <th>0</th>\n",
       "      <td>5.0</td>\n",
       "      <td>False</td>\n",
       "      <td>03 30, 2005</td>\n",
       "      <td>A1REUF3A1YCPHM</td>\n",
       "      <td>0001713353</td>\n",
       "      <td>{'Format:': ' Hardcover'}</td>\n",
       "      <td>TW Ervin II</td>\n",
       "      <td>The King, the Mice and the Cheese by Nancy Gur...</td>\n",
       "      <td>A story children will love and learn from</td>\n",
       "      <td>1112140800</td>\n",
       "      <td>...</td>\n",
       "      <td>0</td>\n",
       "      <td>0</td>\n",
       "      <td>0</td>\n",
       "      <td>0</td>\n",
       "      <td>0</td>\n",
       "      <td>0</td>\n",
       "      <td>0</td>\n",
       "      <td>0</td>\n",
       "      <td>0</td>\n",
       "      <td>0</td>\n",
       "    </tr>\n",
       "    <tr>\n",
       "      <th>1</th>\n",
       "      <td>5.0</td>\n",
       "      <td>True</td>\n",
       "      <td>06 20, 2016</td>\n",
       "      <td>AVP0HXC9FG790</td>\n",
       "      <td>0001713353</td>\n",
       "      <td>NaN</td>\n",
       "      <td>Amazon Customer</td>\n",
       "      <td>The kids loved it!</td>\n",
       "      <td>Five Stars</td>\n",
       "      <td>1466380800</td>\n",
       "      <td>...</td>\n",
       "      <td>0</td>\n",
       "      <td>0</td>\n",
       "      <td>0</td>\n",
       "      <td>0</td>\n",
       "      <td>0</td>\n",
       "      <td>0</td>\n",
       "      <td>0</td>\n",
       "      <td>0</td>\n",
       "      <td>0</td>\n",
       "      <td>0</td>\n",
       "    </tr>\n",
       "    <tr>\n",
       "      <th>2</th>\n",
       "      <td>5.0</td>\n",
       "      <td>True</td>\n",
       "      <td>01 24, 2016</td>\n",
       "      <td>A324TTUBKTN73A</td>\n",
       "      <td>0001713353</td>\n",
       "      <td>{'Format:': ' Paperback'}</td>\n",
       "      <td>Tekla Borner</td>\n",
       "      <td>My students (3 &amp; 4 year olds) loved this book!...</td>\n",
       "      <td>Five Stars</td>\n",
       "      <td>1453593600</td>\n",
       "      <td>...</td>\n",
       "      <td>0</td>\n",
       "      <td>0</td>\n",
       "      <td>0</td>\n",
       "      <td>0</td>\n",
       "      <td>0</td>\n",
       "      <td>0</td>\n",
       "      <td>0</td>\n",
       "      <td>0</td>\n",
       "      <td>0</td>\n",
       "      <td>0</td>\n",
       "    </tr>\n",
       "  </tbody>\n",
       "</table>\n",
       "<p>3 rows × 49 columns</p>\n",
       "</div>"
      ],
      "text/plain": [
       "   overall  verified   reviewTime      reviewerID        asin  \\\n",
       "0      5.0     False  03 30, 2005  A1REUF3A1YCPHM  0001713353   \n",
       "1      5.0      True  06 20, 2016   AVP0HXC9FG790  0001713353   \n",
       "2      5.0      True  01 24, 2016  A324TTUBKTN73A  0001713353   \n",
       "\n",
       "                       style     reviewerName  \\\n",
       "0  {'Format:': ' Hardcover'}      TW Ervin II   \n",
       "1                        NaN  Amazon Customer   \n",
       "2  {'Format:': ' Paperback'}     Tekla Borner   \n",
       "\n",
       "                                          reviewText  \\\n",
       "0  The King, the Mice and the Cheese by Nancy Gur...   \n",
       "1                                 The kids loved it!   \n",
       "2  My students (3 & 4 year olds) loved this book!...   \n",
       "\n",
       "                                     summary  unixReviewTime  ...  \\\n",
       "0  A story children will love and learn from      1112140800  ...   \n",
       "1                                 Five Stars      1466380800  ...   \n",
       "2                                 Five Stars      1453593600  ...   \n",
       "\n",
       "  Business_and_Money Health__Fitness_and_Dieting Religion_and_Spirituality  \\\n",
       "0                  0                           0                         0   \n",
       "1                  0                           0                         0   \n",
       "2                  0                           0                         0   \n",
       "\n",
       "  New__Used_and_Rental_Textbooks Arts_and_Photography Politics_and_Government  \\\n",
       "0                              0                    0                       0   \n",
       "1                              0                    0                       0   \n",
       "2                              0                    0                       0   \n",
       "\n",
       "  Humor_and_Entertainment Arts_and_Literature Science_and_Math  \\\n",
       "0                       0                   0                0   \n",
       "1                       0                   0                0   \n",
       "2                       0                   0                0   \n",
       "\n",
       "  Regional_and_International  \n",
       "0                          0  \n",
       "1                          0  \n",
       "2                          0  \n",
       "\n",
       "[3 rows x 49 columns]"
      ]
     },
     "execution_count": 59,
     "metadata": {},
     "output_type": "execute_result"
    }
   ],
   "source": [
    "books = pd.merge(books, books_meta, how='left', on='asin')\n",
    "books.head(3)"
   ]
  },
  {
   "cell_type": "code",
   "execution_count": 65,
   "metadata": {},
   "outputs": [],
   "source": [
    "need_save = False\n",
    "if need_save:\n",
    "    books.to_csv('../data/interim/books_with_metadata.csv.zip', index=None, compression='zip')"
   ]
  },
  {
   "cell_type": "markdown",
   "metadata": {},
   "source": [
    "# EDA"
   ]
  },
  {
   "cell_type": "markdown",
   "metadata": {},
   "source": [
    "## Ratings distribution"
   ]
  },
  {
   "cell_type": "code",
   "execution_count": 66,
   "metadata": {},
   "outputs": [
    {
     "data": {
      "application/vnd.plotly.v1+json": {
       "config": {
        "plotlyServerURL": "https://plot.ly"
       },
       "data": [
        {
         "alignmentgroup": "True",
         "hovertemplate": "variable=overall<br>index=%{x}<br>value=%{y}<extra></extra>",
         "legendgroup": "overall",
         "marker": {
          "color": "#636efa",
          "pattern": {
           "shape": ""
          }
         },
         "name": "overall",
         "offsetgroup": "overall",
         "orientation": "v",
         "showlegend": true,
         "textposition": "auto",
         "type": "bar",
         "x": [
          1,
          2,
          3,
          4,
          5
         ],
         "xaxis": "x",
         "y": [
          36633,
          44349,
          95333,
          212290,
          611395
         ],
         "yaxis": "y"
        }
       ],
       "layout": {
        "barmode": "relative",
        "legend": {
         "title": {
          "text": "variable"
         },
         "tracegroupgap": 0
        },
        "margin": {
         "t": 60
        },
        "template": {
         "data": {
          "bar": [
           {
            "error_x": {
             "color": "#2a3f5f"
            },
            "error_y": {
             "color": "#2a3f5f"
            },
            "marker": {
             "line": {
              "color": "#E5ECF6",
              "width": 0.5
             },
             "pattern": {
              "fillmode": "overlay",
              "size": 10,
              "solidity": 0.2
             }
            },
            "type": "bar"
           }
          ],
          "barpolar": [
           {
            "marker": {
             "line": {
              "color": "#E5ECF6",
              "width": 0.5
             },
             "pattern": {
              "fillmode": "overlay",
              "size": 10,
              "solidity": 0.2
             }
            },
            "type": "barpolar"
           }
          ],
          "carpet": [
           {
            "aaxis": {
             "endlinecolor": "#2a3f5f",
             "gridcolor": "white",
             "linecolor": "white",
             "minorgridcolor": "white",
             "startlinecolor": "#2a3f5f"
            },
            "baxis": {
             "endlinecolor": "#2a3f5f",
             "gridcolor": "white",
             "linecolor": "white",
             "minorgridcolor": "white",
             "startlinecolor": "#2a3f5f"
            },
            "type": "carpet"
           }
          ],
          "choropleth": [
           {
            "colorbar": {
             "outlinewidth": 0,
             "ticks": ""
            },
            "type": "choropleth"
           }
          ],
          "contour": [
           {
            "colorbar": {
             "outlinewidth": 0,
             "ticks": ""
            },
            "colorscale": [
             [
              0,
              "#0d0887"
             ],
             [
              0.1111111111111111,
              "#46039f"
             ],
             [
              0.2222222222222222,
              "#7201a8"
             ],
             [
              0.3333333333333333,
              "#9c179e"
             ],
             [
              0.4444444444444444,
              "#bd3786"
             ],
             [
              0.5555555555555556,
              "#d8576b"
             ],
             [
              0.6666666666666666,
              "#ed7953"
             ],
             [
              0.7777777777777778,
              "#fb9f3a"
             ],
             [
              0.8888888888888888,
              "#fdca26"
             ],
             [
              1,
              "#f0f921"
             ]
            ],
            "type": "contour"
           }
          ],
          "contourcarpet": [
           {
            "colorbar": {
             "outlinewidth": 0,
             "ticks": ""
            },
            "type": "contourcarpet"
           }
          ],
          "heatmap": [
           {
            "colorbar": {
             "outlinewidth": 0,
             "ticks": ""
            },
            "colorscale": [
             [
              0,
              "#0d0887"
             ],
             [
              0.1111111111111111,
              "#46039f"
             ],
             [
              0.2222222222222222,
              "#7201a8"
             ],
             [
              0.3333333333333333,
              "#9c179e"
             ],
             [
              0.4444444444444444,
              "#bd3786"
             ],
             [
              0.5555555555555556,
              "#d8576b"
             ],
             [
              0.6666666666666666,
              "#ed7953"
             ],
             [
              0.7777777777777778,
              "#fb9f3a"
             ],
             [
              0.8888888888888888,
              "#fdca26"
             ],
             [
              1,
              "#f0f921"
             ]
            ],
            "type": "heatmap"
           }
          ],
          "heatmapgl": [
           {
            "colorbar": {
             "outlinewidth": 0,
             "ticks": ""
            },
            "colorscale": [
             [
              0,
              "#0d0887"
             ],
             [
              0.1111111111111111,
              "#46039f"
             ],
             [
              0.2222222222222222,
              "#7201a8"
             ],
             [
              0.3333333333333333,
              "#9c179e"
             ],
             [
              0.4444444444444444,
              "#bd3786"
             ],
             [
              0.5555555555555556,
              "#d8576b"
             ],
             [
              0.6666666666666666,
              "#ed7953"
             ],
             [
              0.7777777777777778,
              "#fb9f3a"
             ],
             [
              0.8888888888888888,
              "#fdca26"
             ],
             [
              1,
              "#f0f921"
             ]
            ],
            "type": "heatmapgl"
           }
          ],
          "histogram": [
           {
            "marker": {
             "pattern": {
              "fillmode": "overlay",
              "size": 10,
              "solidity": 0.2
             }
            },
            "type": "histogram"
           }
          ],
          "histogram2d": [
           {
            "colorbar": {
             "outlinewidth": 0,
             "ticks": ""
            },
            "colorscale": [
             [
              0,
              "#0d0887"
             ],
             [
              0.1111111111111111,
              "#46039f"
             ],
             [
              0.2222222222222222,
              "#7201a8"
             ],
             [
              0.3333333333333333,
              "#9c179e"
             ],
             [
              0.4444444444444444,
              "#bd3786"
             ],
             [
              0.5555555555555556,
              "#d8576b"
             ],
             [
              0.6666666666666666,
              "#ed7953"
             ],
             [
              0.7777777777777778,
              "#fb9f3a"
             ],
             [
              0.8888888888888888,
              "#fdca26"
             ],
             [
              1,
              "#f0f921"
             ]
            ],
            "type": "histogram2d"
           }
          ],
          "histogram2dcontour": [
           {
            "colorbar": {
             "outlinewidth": 0,
             "ticks": ""
            },
            "colorscale": [
             [
              0,
              "#0d0887"
             ],
             [
              0.1111111111111111,
              "#46039f"
             ],
             [
              0.2222222222222222,
              "#7201a8"
             ],
             [
              0.3333333333333333,
              "#9c179e"
             ],
             [
              0.4444444444444444,
              "#bd3786"
             ],
             [
              0.5555555555555556,
              "#d8576b"
             ],
             [
              0.6666666666666666,
              "#ed7953"
             ],
             [
              0.7777777777777778,
              "#fb9f3a"
             ],
             [
              0.8888888888888888,
              "#fdca26"
             ],
             [
              1,
              "#f0f921"
             ]
            ],
            "type": "histogram2dcontour"
           }
          ],
          "mesh3d": [
           {
            "colorbar": {
             "outlinewidth": 0,
             "ticks": ""
            },
            "type": "mesh3d"
           }
          ],
          "parcoords": [
           {
            "line": {
             "colorbar": {
              "outlinewidth": 0,
              "ticks": ""
             }
            },
            "type": "parcoords"
           }
          ],
          "pie": [
           {
            "automargin": true,
            "type": "pie"
           }
          ],
          "scatter": [
           {
            "marker": {
             "colorbar": {
              "outlinewidth": 0,
              "ticks": ""
             }
            },
            "type": "scatter"
           }
          ],
          "scatter3d": [
           {
            "line": {
             "colorbar": {
              "outlinewidth": 0,
              "ticks": ""
             }
            },
            "marker": {
             "colorbar": {
              "outlinewidth": 0,
              "ticks": ""
             }
            },
            "type": "scatter3d"
           }
          ],
          "scattercarpet": [
           {
            "marker": {
             "colorbar": {
              "outlinewidth": 0,
              "ticks": ""
             }
            },
            "type": "scattercarpet"
           }
          ],
          "scattergeo": [
           {
            "marker": {
             "colorbar": {
              "outlinewidth": 0,
              "ticks": ""
             }
            },
            "type": "scattergeo"
           }
          ],
          "scattergl": [
           {
            "marker": {
             "colorbar": {
              "outlinewidth": 0,
              "ticks": ""
             }
            },
            "type": "scattergl"
           }
          ],
          "scattermapbox": [
           {
            "marker": {
             "colorbar": {
              "outlinewidth": 0,
              "ticks": ""
             }
            },
            "type": "scattermapbox"
           }
          ],
          "scatterpolar": [
           {
            "marker": {
             "colorbar": {
              "outlinewidth": 0,
              "ticks": ""
             }
            },
            "type": "scatterpolar"
           }
          ],
          "scatterpolargl": [
           {
            "marker": {
             "colorbar": {
              "outlinewidth": 0,
              "ticks": ""
             }
            },
            "type": "scatterpolargl"
           }
          ],
          "scatterternary": [
           {
            "marker": {
             "colorbar": {
              "outlinewidth": 0,
              "ticks": ""
             }
            },
            "type": "scatterternary"
           }
          ],
          "surface": [
           {
            "colorbar": {
             "outlinewidth": 0,
             "ticks": ""
            },
            "colorscale": [
             [
              0,
              "#0d0887"
             ],
             [
              0.1111111111111111,
              "#46039f"
             ],
             [
              0.2222222222222222,
              "#7201a8"
             ],
             [
              0.3333333333333333,
              "#9c179e"
             ],
             [
              0.4444444444444444,
              "#bd3786"
             ],
             [
              0.5555555555555556,
              "#d8576b"
             ],
             [
              0.6666666666666666,
              "#ed7953"
             ],
             [
              0.7777777777777778,
              "#fb9f3a"
             ],
             [
              0.8888888888888888,
              "#fdca26"
             ],
             [
              1,
              "#f0f921"
             ]
            ],
            "type": "surface"
           }
          ],
          "table": [
           {
            "cells": {
             "fill": {
              "color": "#EBF0F8"
             },
             "line": {
              "color": "white"
             }
            },
            "header": {
             "fill": {
              "color": "#C8D4E3"
             },
             "line": {
              "color": "white"
             }
            },
            "type": "table"
           }
          ]
         },
         "layout": {
          "annotationdefaults": {
           "arrowcolor": "#2a3f5f",
           "arrowhead": 0,
           "arrowwidth": 1
          },
          "autotypenumbers": "strict",
          "coloraxis": {
           "colorbar": {
            "outlinewidth": 0,
            "ticks": ""
           }
          },
          "colorscale": {
           "diverging": [
            [
             0,
             "#8e0152"
            ],
            [
             0.1,
             "#c51b7d"
            ],
            [
             0.2,
             "#de77ae"
            ],
            [
             0.3,
             "#f1b6da"
            ],
            [
             0.4,
             "#fde0ef"
            ],
            [
             0.5,
             "#f7f7f7"
            ],
            [
             0.6,
             "#e6f5d0"
            ],
            [
             0.7,
             "#b8e186"
            ],
            [
             0.8,
             "#7fbc41"
            ],
            [
             0.9,
             "#4d9221"
            ],
            [
             1,
             "#276419"
            ]
           ],
           "sequential": [
            [
             0,
             "#0d0887"
            ],
            [
             0.1111111111111111,
             "#46039f"
            ],
            [
             0.2222222222222222,
             "#7201a8"
            ],
            [
             0.3333333333333333,
             "#9c179e"
            ],
            [
             0.4444444444444444,
             "#bd3786"
            ],
            [
             0.5555555555555556,
             "#d8576b"
            ],
            [
             0.6666666666666666,
             "#ed7953"
            ],
            [
             0.7777777777777778,
             "#fb9f3a"
            ],
            [
             0.8888888888888888,
             "#fdca26"
            ],
            [
             1,
             "#f0f921"
            ]
           ],
           "sequentialminus": [
            [
             0,
             "#0d0887"
            ],
            [
             0.1111111111111111,
             "#46039f"
            ],
            [
             0.2222222222222222,
             "#7201a8"
            ],
            [
             0.3333333333333333,
             "#9c179e"
            ],
            [
             0.4444444444444444,
             "#bd3786"
            ],
            [
             0.5555555555555556,
             "#d8576b"
            ],
            [
             0.6666666666666666,
             "#ed7953"
            ],
            [
             0.7777777777777778,
             "#fb9f3a"
            ],
            [
             0.8888888888888888,
             "#fdca26"
            ],
            [
             1,
             "#f0f921"
            ]
           ]
          },
          "colorway": [
           "#636efa",
           "#EF553B",
           "#00cc96",
           "#ab63fa",
           "#FFA15A",
           "#19d3f3",
           "#FF6692",
           "#B6E880",
           "#FF97FF",
           "#FECB52"
          ],
          "font": {
           "color": "#2a3f5f"
          },
          "geo": {
           "bgcolor": "white",
           "lakecolor": "white",
           "landcolor": "#E5ECF6",
           "showlakes": true,
           "showland": true,
           "subunitcolor": "white"
          },
          "hoverlabel": {
           "align": "left"
          },
          "hovermode": "closest",
          "mapbox": {
           "style": "light"
          },
          "paper_bgcolor": "white",
          "plot_bgcolor": "#E5ECF6",
          "polar": {
           "angularaxis": {
            "gridcolor": "white",
            "linecolor": "white",
            "ticks": ""
           },
           "bgcolor": "#E5ECF6",
           "radialaxis": {
            "gridcolor": "white",
            "linecolor": "white",
            "ticks": ""
           }
          },
          "scene": {
           "xaxis": {
            "backgroundcolor": "#E5ECF6",
            "gridcolor": "white",
            "gridwidth": 2,
            "linecolor": "white",
            "showbackground": true,
            "ticks": "",
            "zerolinecolor": "white"
           },
           "yaxis": {
            "backgroundcolor": "#E5ECF6",
            "gridcolor": "white",
            "gridwidth": 2,
            "linecolor": "white",
            "showbackground": true,
            "ticks": "",
            "zerolinecolor": "white"
           },
           "zaxis": {
            "backgroundcolor": "#E5ECF6",
            "gridcolor": "white",
            "gridwidth": 2,
            "linecolor": "white",
            "showbackground": true,
            "ticks": "",
            "zerolinecolor": "white"
           }
          },
          "shapedefaults": {
           "line": {
            "color": "#2a3f5f"
           }
          },
          "ternary": {
           "aaxis": {
            "gridcolor": "white",
            "linecolor": "white",
            "ticks": ""
           },
           "baxis": {
            "gridcolor": "white",
            "linecolor": "white",
            "ticks": ""
           },
           "bgcolor": "#E5ECF6",
           "caxis": {
            "gridcolor": "white",
            "linecolor": "white",
            "ticks": ""
           }
          },
          "title": {
           "x": 0.05
          },
          "xaxis": {
           "automargin": true,
           "gridcolor": "white",
           "linecolor": "white",
           "ticks": "",
           "title": {
            "standoff": 15
           },
           "zerolinecolor": "white",
           "zerolinewidth": 2
          },
          "yaxis": {
           "automargin": true,
           "gridcolor": "white",
           "linecolor": "white",
           "ticks": "",
           "title": {
            "standoff": 15
           },
           "zerolinecolor": "white",
           "zerolinewidth": 2
          }
         }
        },
        "xaxis": {
         "anchor": "y",
         "domain": [
          0,
          1
         ],
         "title": {
          "text": "index"
         }
        },
        "yaxis": {
         "anchor": "x",
         "domain": [
          0,
          1
         ],
         "title": {
          "text": "value"
         }
        }
       }
      }
     },
     "metadata": {},
     "output_type": "display_data"
    }
   ],
   "source": [
    "px.bar(books[['asin', 'overall']].groupby('overall').agg({'overall': 'count'}))"
   ]
  },
  {
   "cell_type": "markdown",
   "metadata": {},
   "source": [
    "### Ratings distribution by category (for twenty most popupal categories)"
   ]
  },
  {
   "cell_type": "code",
   "execution_count": 69,
   "metadata": {},
   "outputs": [
    {
     "data": {
      "application/vnd.plotly.v1+json": {
       "config": {
        "plotlyServerURL": "https://plot.ly"
       },
       "data": [
        {
         "name": "Literature_and_Fiction",
         "type": "bar",
         "x": [
          1,
          2,
          3,
          4,
          5
         ],
         "xaxis": "x",
         "y": [
          8960,
          11911,
          25797,
          57323,
          158578
         ],
         "yaxis": "y"
        },
        {
         "name": "Mystery__Thriller_and_Suspense",
         "type": "bar",
         "x": [
          1,
          2,
          3,
          4,
          5
         ],
         "xaxis": "x2",
         "y": [
          1638,
          2371,
          5363,
          11815,
          23779
         ],
         "yaxis": "y2"
        },
        {
         "name": "Biographies_and_Memoirs",
         "type": "bar",
         "x": [
          1,
          2,
          3,
          4,
          5
         ],
         "xaxis": "x3",
         "y": [
          918,
          1154,
          2442,
          5694,
          16856
         ],
         "yaxis": "y3"
        },
        {
         "name": "Growing_Up_and_Facts_of_Life",
         "type": "bar",
         "x": [
          1,
          2,
          3,
          4,
          5
         ],
         "xaxis": "x4",
         "y": [
          240,
          203,
          626,
          1721,
          8478
         ],
         "yaxis": "y4"
        },
        {
         "name": "Politics_and_Social_Sciences",
         "type": "bar",
         "x": [
          1,
          2,
          3,
          4,
          5
         ],
         "xaxis": "x5",
         "y": [
          627,
          379,
          718,
          1664,
          4386
         ],
         "yaxis": "y5"
        },
        {
         "name": "Teen_and_Young_Adult",
         "type": "bar",
         "x": [
          1,
          2,
          3,
          4,
          5
         ],
         "xaxis": "x6",
         "y": [
          1058,
          1629,
          4672,
          10816,
          27805
         ],
         "yaxis": "y6"
        },
        {
         "name": "Cookbooks__Food_and_Wine",
         "type": "bar",
         "x": [
          1,
          2,
          3,
          4,
          5
         ],
         "xaxis": "x7",
         "y": [
          257,
          266,
          515,
          1034,
          5068
         ],
         "yaxis": "y7"
        },
        {
         "name": "Christian_Books_and_Bibles",
         "type": "bar",
         "x": [
          1,
          2,
          3,
          4,
          5
         ],
         "xaxis": "x8",
         "y": [
          319,
          288,
          661,
          1653,
          7267
         ],
         "yaxis": "y8"
        },
        {
         "name": "Thrillers_and_Suspense",
         "type": "bar",
         "x": [
          1,
          2,
          3,
          4,
          5
         ],
         "xaxis": "x9",
         "y": [
          907,
          1302,
          2708,
          5737,
          10560
         ],
         "yaxis": "y9"
        },
        {
         "name": "Science_Fiction_and_Fantasy",
         "type": "bar",
         "x": [
          1,
          2,
          3,
          4,
          5
         ],
         "xaxis": "x10",
         "y": [
          3042,
          3381,
          6040,
          10812,
          26916
         ],
         "yaxis": "y10"
        },
        {
         "name": "Business_and_Money",
         "type": "bar",
         "x": [
          1,
          2,
          3,
          4,
          5
         ],
         "xaxis": "x11",
         "y": [
          328,
          316,
          678,
          1626,
          4824
         ],
         "yaxis": "y11"
        },
        {
         "name": "Health__Fitness_and_Dieting",
         "type": "bar",
         "x": [
          1,
          2,
          3,
          4,
          5
         ],
         "xaxis": "x12",
         "y": [
          379,
          405,
          792,
          1450,
          5115
         ],
         "yaxis": "y12"
        },
        {
         "name": "Religion_and_Spirituality",
         "type": "bar",
         "x": [
          1,
          2,
          3,
          4,
          5
         ],
         "xaxis": "x13",
         "y": [
          181,
          151,
          347,
          740,
          2976
         ],
         "yaxis": "y13"
        },
        {
         "name": "New__Used_and_Rental_Textbooks",
         "type": "bar",
         "x": [
          1,
          2,
          3,
          4,
          5
         ],
         "xaxis": "x14",
         "y": [
          432,
          401,
          887,
          1860,
          6247
         ],
         "yaxis": "y14"
        },
        {
         "name": "Arts_and_Photography",
         "type": "bar",
         "x": [
          1,
          2,
          3,
          4,
          5
         ],
         "xaxis": "x15",
         "y": [
          157,
          190,
          428,
          925,
          3088
         ],
         "yaxis": "y15"
        },
        {
         "name": "Politics_and_Government",
         "type": "bar",
         "x": [
          1,
          2,
          3,
          4,
          5
         ],
         "xaxis": "x16",
         "y": [
          546,
          269,
          511,
          1244,
          3181
         ],
         "yaxis": "y16"
        },
        {
         "name": "Humor_and_Entertainment",
         "type": "bar",
         "x": [
          1,
          2,
          3,
          4,
          5
         ],
         "xaxis": "x17",
         "y": [
          212,
          247,
          509,
          1074,
          3580
         ],
         "yaxis": "y17"
        },
        {
         "name": "Arts_and_Literature",
         "type": "bar",
         "x": [
          1,
          2,
          3,
          4,
          5
         ],
         "xaxis": "x18",
         "y": [
          288,
          418,
          827,
          1502,
          2957
         ],
         "yaxis": "y18"
        },
        {
         "name": "Science_and_Math",
         "type": "bar",
         "x": [
          1,
          2,
          3,
          4,
          5
         ],
         "xaxis": "x19",
         "y": [
          191,
          268,
          576,
          1147,
          2722
         ],
         "yaxis": "y19"
        },
        {
         "name": "Regional_and_International",
         "type": "bar",
         "x": [
          1,
          2,
          3,
          4,
          5
         ],
         "xaxis": "x20",
         "y": [
          62,
          75,
          135,
          332,
          2125
         ],
         "yaxis": "y20"
        }
       ],
       "layout": {
        "height": 1000,
        "template": {
         "data": {
          "bar": [
           {
            "error_x": {
             "color": "#2a3f5f"
            },
            "error_y": {
             "color": "#2a3f5f"
            },
            "marker": {
             "line": {
              "color": "#E5ECF6",
              "width": 0.5
             },
             "pattern": {
              "fillmode": "overlay",
              "size": 10,
              "solidity": 0.2
             }
            },
            "type": "bar"
           }
          ],
          "barpolar": [
           {
            "marker": {
             "line": {
              "color": "#E5ECF6",
              "width": 0.5
             },
             "pattern": {
              "fillmode": "overlay",
              "size": 10,
              "solidity": 0.2
             }
            },
            "type": "barpolar"
           }
          ],
          "carpet": [
           {
            "aaxis": {
             "endlinecolor": "#2a3f5f",
             "gridcolor": "white",
             "linecolor": "white",
             "minorgridcolor": "white",
             "startlinecolor": "#2a3f5f"
            },
            "baxis": {
             "endlinecolor": "#2a3f5f",
             "gridcolor": "white",
             "linecolor": "white",
             "minorgridcolor": "white",
             "startlinecolor": "#2a3f5f"
            },
            "type": "carpet"
           }
          ],
          "choropleth": [
           {
            "colorbar": {
             "outlinewidth": 0,
             "ticks": ""
            },
            "type": "choropleth"
           }
          ],
          "contour": [
           {
            "colorbar": {
             "outlinewidth": 0,
             "ticks": ""
            },
            "colorscale": [
             [
              0,
              "#0d0887"
             ],
             [
              0.1111111111111111,
              "#46039f"
             ],
             [
              0.2222222222222222,
              "#7201a8"
             ],
             [
              0.3333333333333333,
              "#9c179e"
             ],
             [
              0.4444444444444444,
              "#bd3786"
             ],
             [
              0.5555555555555556,
              "#d8576b"
             ],
             [
              0.6666666666666666,
              "#ed7953"
             ],
             [
              0.7777777777777778,
              "#fb9f3a"
             ],
             [
              0.8888888888888888,
              "#fdca26"
             ],
             [
              1,
              "#f0f921"
             ]
            ],
            "type": "contour"
           }
          ],
          "contourcarpet": [
           {
            "colorbar": {
             "outlinewidth": 0,
             "ticks": ""
            },
            "type": "contourcarpet"
           }
          ],
          "heatmap": [
           {
            "colorbar": {
             "outlinewidth": 0,
             "ticks": ""
            },
            "colorscale": [
             [
              0,
              "#0d0887"
             ],
             [
              0.1111111111111111,
              "#46039f"
             ],
             [
              0.2222222222222222,
              "#7201a8"
             ],
             [
              0.3333333333333333,
              "#9c179e"
             ],
             [
              0.4444444444444444,
              "#bd3786"
             ],
             [
              0.5555555555555556,
              "#d8576b"
             ],
             [
              0.6666666666666666,
              "#ed7953"
             ],
             [
              0.7777777777777778,
              "#fb9f3a"
             ],
             [
              0.8888888888888888,
              "#fdca26"
             ],
             [
              1,
              "#f0f921"
             ]
            ],
            "type": "heatmap"
           }
          ],
          "heatmapgl": [
           {
            "colorbar": {
             "outlinewidth": 0,
             "ticks": ""
            },
            "colorscale": [
             [
              0,
              "#0d0887"
             ],
             [
              0.1111111111111111,
              "#46039f"
             ],
             [
              0.2222222222222222,
              "#7201a8"
             ],
             [
              0.3333333333333333,
              "#9c179e"
             ],
             [
              0.4444444444444444,
              "#bd3786"
             ],
             [
              0.5555555555555556,
              "#d8576b"
             ],
             [
              0.6666666666666666,
              "#ed7953"
             ],
             [
              0.7777777777777778,
              "#fb9f3a"
             ],
             [
              0.8888888888888888,
              "#fdca26"
             ],
             [
              1,
              "#f0f921"
             ]
            ],
            "type": "heatmapgl"
           }
          ],
          "histogram": [
           {
            "marker": {
             "pattern": {
              "fillmode": "overlay",
              "size": 10,
              "solidity": 0.2
             }
            },
            "type": "histogram"
           }
          ],
          "histogram2d": [
           {
            "colorbar": {
             "outlinewidth": 0,
             "ticks": ""
            },
            "colorscale": [
             [
              0,
              "#0d0887"
             ],
             [
              0.1111111111111111,
              "#46039f"
             ],
             [
              0.2222222222222222,
              "#7201a8"
             ],
             [
              0.3333333333333333,
              "#9c179e"
             ],
             [
              0.4444444444444444,
              "#bd3786"
             ],
             [
              0.5555555555555556,
              "#d8576b"
             ],
             [
              0.6666666666666666,
              "#ed7953"
             ],
             [
              0.7777777777777778,
              "#fb9f3a"
             ],
             [
              0.8888888888888888,
              "#fdca26"
             ],
             [
              1,
              "#f0f921"
             ]
            ],
            "type": "histogram2d"
           }
          ],
          "histogram2dcontour": [
           {
            "colorbar": {
             "outlinewidth": 0,
             "ticks": ""
            },
            "colorscale": [
             [
              0,
              "#0d0887"
             ],
             [
              0.1111111111111111,
              "#46039f"
             ],
             [
              0.2222222222222222,
              "#7201a8"
             ],
             [
              0.3333333333333333,
              "#9c179e"
             ],
             [
              0.4444444444444444,
              "#bd3786"
             ],
             [
              0.5555555555555556,
              "#d8576b"
             ],
             [
              0.6666666666666666,
              "#ed7953"
             ],
             [
              0.7777777777777778,
              "#fb9f3a"
             ],
             [
              0.8888888888888888,
              "#fdca26"
             ],
             [
              1,
              "#f0f921"
             ]
            ],
            "type": "histogram2dcontour"
           }
          ],
          "mesh3d": [
           {
            "colorbar": {
             "outlinewidth": 0,
             "ticks": ""
            },
            "type": "mesh3d"
           }
          ],
          "parcoords": [
           {
            "line": {
             "colorbar": {
              "outlinewidth": 0,
              "ticks": ""
             }
            },
            "type": "parcoords"
           }
          ],
          "pie": [
           {
            "automargin": true,
            "type": "pie"
           }
          ],
          "scatter": [
           {
            "marker": {
             "colorbar": {
              "outlinewidth": 0,
              "ticks": ""
             }
            },
            "type": "scatter"
           }
          ],
          "scatter3d": [
           {
            "line": {
             "colorbar": {
              "outlinewidth": 0,
              "ticks": ""
             }
            },
            "marker": {
             "colorbar": {
              "outlinewidth": 0,
              "ticks": ""
             }
            },
            "type": "scatter3d"
           }
          ],
          "scattercarpet": [
           {
            "marker": {
             "colorbar": {
              "outlinewidth": 0,
              "ticks": ""
             }
            },
            "type": "scattercarpet"
           }
          ],
          "scattergeo": [
           {
            "marker": {
             "colorbar": {
              "outlinewidth": 0,
              "ticks": ""
             }
            },
            "type": "scattergeo"
           }
          ],
          "scattergl": [
           {
            "marker": {
             "colorbar": {
              "outlinewidth": 0,
              "ticks": ""
             }
            },
            "type": "scattergl"
           }
          ],
          "scattermapbox": [
           {
            "marker": {
             "colorbar": {
              "outlinewidth": 0,
              "ticks": ""
             }
            },
            "type": "scattermapbox"
           }
          ],
          "scatterpolar": [
           {
            "marker": {
             "colorbar": {
              "outlinewidth": 0,
              "ticks": ""
             }
            },
            "type": "scatterpolar"
           }
          ],
          "scatterpolargl": [
           {
            "marker": {
             "colorbar": {
              "outlinewidth": 0,
              "ticks": ""
             }
            },
            "type": "scatterpolargl"
           }
          ],
          "scatterternary": [
           {
            "marker": {
             "colorbar": {
              "outlinewidth": 0,
              "ticks": ""
             }
            },
            "type": "scatterternary"
           }
          ],
          "surface": [
           {
            "colorbar": {
             "outlinewidth": 0,
             "ticks": ""
            },
            "colorscale": [
             [
              0,
              "#0d0887"
             ],
             [
              0.1111111111111111,
              "#46039f"
             ],
             [
              0.2222222222222222,
              "#7201a8"
             ],
             [
              0.3333333333333333,
              "#9c179e"
             ],
             [
              0.4444444444444444,
              "#bd3786"
             ],
             [
              0.5555555555555556,
              "#d8576b"
             ],
             [
              0.6666666666666666,
              "#ed7953"
             ],
             [
              0.7777777777777778,
              "#fb9f3a"
             ],
             [
              0.8888888888888888,
              "#fdca26"
             ],
             [
              1,
              "#f0f921"
             ]
            ],
            "type": "surface"
           }
          ],
          "table": [
           {
            "cells": {
             "fill": {
              "color": "#EBF0F8"
             },
             "line": {
              "color": "white"
             }
            },
            "header": {
             "fill": {
              "color": "#C8D4E3"
             },
             "line": {
              "color": "white"
             }
            },
            "type": "table"
           }
          ]
         },
         "layout": {
          "annotationdefaults": {
           "arrowcolor": "#2a3f5f",
           "arrowhead": 0,
           "arrowwidth": 1
          },
          "autotypenumbers": "strict",
          "coloraxis": {
           "colorbar": {
            "outlinewidth": 0,
            "ticks": ""
           }
          },
          "colorscale": {
           "diverging": [
            [
             0,
             "#8e0152"
            ],
            [
             0.1,
             "#c51b7d"
            ],
            [
             0.2,
             "#de77ae"
            ],
            [
             0.3,
             "#f1b6da"
            ],
            [
             0.4,
             "#fde0ef"
            ],
            [
             0.5,
             "#f7f7f7"
            ],
            [
             0.6,
             "#e6f5d0"
            ],
            [
             0.7,
             "#b8e186"
            ],
            [
             0.8,
             "#7fbc41"
            ],
            [
             0.9,
             "#4d9221"
            ],
            [
             1,
             "#276419"
            ]
           ],
           "sequential": [
            [
             0,
             "#0d0887"
            ],
            [
             0.1111111111111111,
             "#46039f"
            ],
            [
             0.2222222222222222,
             "#7201a8"
            ],
            [
             0.3333333333333333,
             "#9c179e"
            ],
            [
             0.4444444444444444,
             "#bd3786"
            ],
            [
             0.5555555555555556,
             "#d8576b"
            ],
            [
             0.6666666666666666,
             "#ed7953"
            ],
            [
             0.7777777777777778,
             "#fb9f3a"
            ],
            [
             0.8888888888888888,
             "#fdca26"
            ],
            [
             1,
             "#f0f921"
            ]
           ],
           "sequentialminus": [
            [
             0,
             "#0d0887"
            ],
            [
             0.1111111111111111,
             "#46039f"
            ],
            [
             0.2222222222222222,
             "#7201a8"
            ],
            [
             0.3333333333333333,
             "#9c179e"
            ],
            [
             0.4444444444444444,
             "#bd3786"
            ],
            [
             0.5555555555555556,
             "#d8576b"
            ],
            [
             0.6666666666666666,
             "#ed7953"
            ],
            [
             0.7777777777777778,
             "#fb9f3a"
            ],
            [
             0.8888888888888888,
             "#fdca26"
            ],
            [
             1,
             "#f0f921"
            ]
           ]
          },
          "colorway": [
           "#636efa",
           "#EF553B",
           "#00cc96",
           "#ab63fa",
           "#FFA15A",
           "#19d3f3",
           "#FF6692",
           "#B6E880",
           "#FF97FF",
           "#FECB52"
          ],
          "font": {
           "color": "#2a3f5f"
          },
          "geo": {
           "bgcolor": "white",
           "lakecolor": "white",
           "landcolor": "#E5ECF6",
           "showlakes": true,
           "showland": true,
           "subunitcolor": "white"
          },
          "hoverlabel": {
           "align": "left"
          },
          "hovermode": "closest",
          "mapbox": {
           "style": "light"
          },
          "paper_bgcolor": "white",
          "plot_bgcolor": "#E5ECF6",
          "polar": {
           "angularaxis": {
            "gridcolor": "white",
            "linecolor": "white",
            "ticks": ""
           },
           "bgcolor": "#E5ECF6",
           "radialaxis": {
            "gridcolor": "white",
            "linecolor": "white",
            "ticks": ""
           }
          },
          "scene": {
           "xaxis": {
            "backgroundcolor": "#E5ECF6",
            "gridcolor": "white",
            "gridwidth": 2,
            "linecolor": "white",
            "showbackground": true,
            "ticks": "",
            "zerolinecolor": "white"
           },
           "yaxis": {
            "backgroundcolor": "#E5ECF6",
            "gridcolor": "white",
            "gridwidth": 2,
            "linecolor": "white",
            "showbackground": true,
            "ticks": "",
            "zerolinecolor": "white"
           },
           "zaxis": {
            "backgroundcolor": "#E5ECF6",
            "gridcolor": "white",
            "gridwidth": 2,
            "linecolor": "white",
            "showbackground": true,
            "ticks": "",
            "zerolinecolor": "white"
           }
          },
          "shapedefaults": {
           "line": {
            "color": "#2a3f5f"
           }
          },
          "ternary": {
           "aaxis": {
            "gridcolor": "white",
            "linecolor": "white",
            "ticks": ""
           },
           "baxis": {
            "gridcolor": "white",
            "linecolor": "white",
            "ticks": ""
           },
           "bgcolor": "#E5ECF6",
           "caxis": {
            "gridcolor": "white",
            "linecolor": "white",
            "ticks": ""
           }
          },
          "title": {
           "x": 0.05
          },
          "xaxis": {
           "automargin": true,
           "gridcolor": "white",
           "linecolor": "white",
           "ticks": "",
           "title": {
            "standoff": 15
           },
           "zerolinecolor": "white",
           "zerolinewidth": 2
          },
          "yaxis": {
           "automargin": true,
           "gridcolor": "white",
           "linecolor": "white",
           "ticks": "",
           "title": {
            "standoff": 15
           },
           "zerolinecolor": "white",
           "zerolinewidth": 2
          }
         }
        },
        "title": {
         "text": "Plots"
        },
        "width": 1500,
        "xaxis": {
         "anchor": "y",
         "domain": [
          0,
          0.2125
         ]
        },
        "xaxis10": {
         "anchor": "y10",
         "domain": [
          0.2625,
          0.475
         ]
        },
        "xaxis11": {
         "anchor": "y11",
         "domain": [
          0.525,
          0.7375
         ]
        },
        "xaxis12": {
         "anchor": "y12",
         "domain": [
          0.7875,
          1
         ]
        },
        "xaxis13": {
         "anchor": "y13",
         "domain": [
          0,
          0.2125
         ]
        },
        "xaxis14": {
         "anchor": "y14",
         "domain": [
          0.2625,
          0.475
         ]
        },
        "xaxis15": {
         "anchor": "y15",
         "domain": [
          0.525,
          0.7375
         ]
        },
        "xaxis16": {
         "anchor": "y16",
         "domain": [
          0.7875,
          1
         ]
        },
        "xaxis17": {
         "anchor": "y17",
         "domain": [
          0,
          0.2125
         ]
        },
        "xaxis18": {
         "anchor": "y18",
         "domain": [
          0.2625,
          0.475
         ]
        },
        "xaxis19": {
         "anchor": "y19",
         "domain": [
          0.525,
          0.7375
         ]
        },
        "xaxis2": {
         "anchor": "y2",
         "domain": [
          0.2625,
          0.475
         ]
        },
        "xaxis20": {
         "anchor": "y20",
         "domain": [
          0.7875,
          1
         ]
        },
        "xaxis3": {
         "anchor": "y3",
         "domain": [
          0.525,
          0.7375
         ]
        },
        "xaxis4": {
         "anchor": "y4",
         "domain": [
          0.7875,
          1
         ]
        },
        "xaxis5": {
         "anchor": "y5",
         "domain": [
          0,
          0.2125
         ]
        },
        "xaxis6": {
         "anchor": "y6",
         "domain": [
          0.2625,
          0.475
         ]
        },
        "xaxis7": {
         "anchor": "y7",
         "domain": [
          0.525,
          0.7375
         ]
        },
        "xaxis8": {
         "anchor": "y8",
         "domain": [
          0.7875,
          1
         ]
        },
        "xaxis9": {
         "anchor": "y9",
         "domain": [
          0,
          0.2125
         ]
        },
        "yaxis": {
         "anchor": "x",
         "domain": [
          0.848,
          1
         ]
        },
        "yaxis10": {
         "anchor": "x10",
         "domain": [
          0.424,
          0.576
         ]
        },
        "yaxis11": {
         "anchor": "x11",
         "domain": [
          0.424,
          0.576
         ]
        },
        "yaxis12": {
         "anchor": "x12",
         "domain": [
          0.424,
          0.576
         ]
        },
        "yaxis13": {
         "anchor": "x13",
         "domain": [
          0.212,
          0.364
         ]
        },
        "yaxis14": {
         "anchor": "x14",
         "domain": [
          0.212,
          0.364
         ]
        },
        "yaxis15": {
         "anchor": "x15",
         "domain": [
          0.212,
          0.364
         ]
        },
        "yaxis16": {
         "anchor": "x16",
         "domain": [
          0.212,
          0.364
         ]
        },
        "yaxis17": {
         "anchor": "x17",
         "domain": [
          0,
          0.152
         ]
        },
        "yaxis18": {
         "anchor": "x18",
         "domain": [
          0,
          0.152
         ]
        },
        "yaxis19": {
         "anchor": "x19",
         "domain": [
          0,
          0.152
         ]
        },
        "yaxis2": {
         "anchor": "x2",
         "domain": [
          0.848,
          1
         ]
        },
        "yaxis20": {
         "anchor": "x20",
         "domain": [
          0,
          0.152
         ]
        },
        "yaxis3": {
         "anchor": "x3",
         "domain": [
          0.848,
          1
         ]
        },
        "yaxis4": {
         "anchor": "x4",
         "domain": [
          0.848,
          1
         ]
        },
        "yaxis5": {
         "anchor": "x5",
         "domain": [
          0.6359999999999999,
          0.7879999999999999
         ]
        },
        "yaxis6": {
         "anchor": "x6",
         "domain": [
          0.6359999999999999,
          0.7879999999999999
         ]
        },
        "yaxis7": {
         "anchor": "x7",
         "domain": [
          0.6359999999999999,
          0.7879999999999999
         ]
        },
        "yaxis8": {
         "anchor": "x8",
         "domain": [
          0.6359999999999999,
          0.7879999999999999
         ]
        },
        "yaxis9": {
         "anchor": "x9",
         "domain": [
          0.424,
          0.576
         ]
        }
       }
      }
     },
     "metadata": {},
     "output_type": "display_data"
    }
   ],
   "source": [
    "from plotly.subplots import make_subplots\n",
    "import plotly.graph_objects as go\n",
    "\n",
    "fig = make_subplots(rows=5, cols=4)\n",
    "\n",
    "i = 0\n",
    "j = 1\n",
    "for cat in twenty_most_popular_categories_names:\n",
    "    i += 1\n",
    "    if i % 5 == 0:\n",
    "        j += 1\n",
    "        i = 1\n",
    "    \n",
    "    cat = cat.replace(' ', '_').replace('&', 'and').replace(',', '_')\n",
    "    gr = books[books[cat] == 1].groupby('overall').agg({'overall': 'count'})\n",
    "    x = gr.index\n",
    "    y = np.reshape(gr.values, (1,5))[0]\n",
    "\n",
    "    fig.add_trace(go.Bar(x=x, y=y, name=cat, ), row=j, col=i)\n",
    "\n",
    "\n",
    "fig.update_layout(height=1000, width=1500, title_text=\"Plots\")\n",
    "fig.show()"
   ]
  },
  {
   "cell_type": "markdown",
   "metadata": {},
   "source": [
    "# Summary report"
   ]
  },
  {
   "cell_type": "code",
   "execution_count": 78,
   "metadata": {},
   "outputs": [],
   "source": [
    "def summary(data: pd.DataFrame) -> None:\n",
    "    from IPython.display import display, Markdown\n",
    "    percentiles = [5, 25, 50, 75, 95]\n",
    "\n",
    "    unique_books_count = books[\"asin\"].nunique()\n",
    "    unique_users = books['reviewerID'].nunique()\n",
    "    average_rating = books['overall'].mean()\n",
    "    meadian_rating = books['overall'].median()\n",
    "    \n",
    "    books_by_review_count_and_overall_mean_rating = books[['asin', 'overall', 'title']].\\\n",
    "        groupby('asin').\\\n",
    "        agg(overall_mean=('overall', 'mean'), overall_count=('overall', 'count'), title=('title', 'max'))\n",
    "    five_most_lovable_book_str = '\\n'.join([f'    1. Book \\\"{item[\"title\"]}\\\" has {item[\"overall_count\"]} reviews with average rating {item[\"overall_mean\"]:.2f}' \\\n",
    "        for idx, item in books_by_review_count_and_overall_mean_rating.sort_values(['overall_mean', 'overall_count'], ascending=False)[:5].iterrows()])\n",
    "    five_less_lovable_book_str = '\\n'.join([f'    1. Book \\\"{item[\"title\"]}\\\" has {item[\"overall_count\"]} reviews with average rating {item[\"overall_mean\"]:.2f}' \\\n",
    "        for idx, item in books_by_review_count_and_overall_mean_rating.sort_values(['overall_mean', 'overall_count'], ascending=[True, False])[:5].iterrows()])\n",
    "\n",
    "    books_per_user = books[['reviewerID', 'asin']].groupby('reviewerID').agg({'asin': 'count'})\n",
    "    percentiles_values = np.percentile(books_per_user['asin'], percentiles)\n",
    "    percentiles_str = '\\n'.join([f'   1. {percentiles[i]}% users reviewed {percentiles_values[i]} books or less' for i in range(len(percentiles))])\n",
    "\n",
    "    five_most_reviewed_books = books[['asin', 'overall', 'title']].\\\n",
    "        groupby('asin').\\\n",
    "        agg(asin_count=('asin', 'count'), overall_mean=('overall', 'mean'), title=('title', 'max')).\\\n",
    "        sort_values('asin_count', ascending=False)\n",
    "    five_most_reviewed_books_str = '\\n'.join([f'    1. Book **\\\"{item[\"title\"]}\\\"** has {item[\"asin_count\"]} reviews with average rating {item[\"overall_mean\"]:.2f}' \\\n",
    "        for _, item in five_most_reviewed_books[:5].iterrows()])\n",
    "\n",
    "    top_reviewers = books[['reviewerID', 'asin', 'overall']].\\\n",
    "        groupby('reviewerID').\\\n",
    "        agg(asin_count=('asin', 'count'), overall_mean=('overall', 'mean')).\\\n",
    "        sort_values('asin_count', ascending=False)\n",
    "    five_top_reviewers_str = '\\n'.join([f'    1. Reviewer \"{idx}\" has {item[\"asin_count\"]} reviews with {item[\"overall_mean\"]:.2f} mean rating' \\\n",
    "        for idx, item in top_reviewers[:5].iterrows()])\n",
    "\n",
    "    report = f'''## Summary report\n",
    "\n",
    "1. There are {unique_books_count} books\n",
    "2. There are {unique_users} reviewers\n",
    "4. Average rating is {average_rating:.2f}\n",
    "5. Median rating is {meadian_rating:.2f}\n",
    "6. Five most lovable books (books with largest review count and best ratings)\n",
    "{five_most_lovable_book_str}\n",
    "7. Five less lovable books (books with largest review count and worst ratings)\n",
    "{five_less_lovable_book_str}\n",
    "6. Five top reviewers\n",
    "{five_top_reviewers_str}\n",
    "8. Most reviewed books\n",
    "{five_most_reviewed_books_str}\n",
    "5. How many books user reviewed:\n",
    "{percentiles_str}\n",
    "'''\n",
    "    display(Markdown(report))"
   ]
  },
  {
   "cell_type": "code",
   "execution_count": 79,
   "metadata": {},
   "outputs": [
    {
     "data": {
      "text/markdown": [
       "## Summary report\n",
       "\n",
       "1. There are 12521 books\n",
       "2. There are 538995 reviewers\n",
       "4. Average rating is 4.32\n",
       "5. Median rating is 5.00\n",
       "6. Five most lovable books (books with largest review count and best ratings)\n",
       "    1. Book \"Therapy and Technique\" has 53 reviews with average rating 5.00\n",
       "    1. Book \"More Peanuts\" has 29 reviews with average rating 5.00\n",
       "    1. Book \"Living the Infinite Way\" has 22 reviews with average rating 5.00\n",
       "    1. Book \"Summer Story (Brambly Hedge)\" has 21 reviews with average rating 5.00\n",
       "    1. Book \"My Great-Aunt Arizona\" has 18 reviews with average rating 5.00\n",
       "7. Five less lovable books (books with largest review count and worst ratings)\n",
       "    1. Book \"Collins Primary Geography Atlas For The Middle East\" has 5 reviews with average rating 1.00\n",
       "    1. Book \"Medieval Lives: Eight Charismatic Men and Women of the Middle Ages\" has 2 reviews with average rating 1.00\n",
       "    1. Book \"Always the Bridesmaid\" has 2 reviews with average rating 1.00\n",
       "    1. Book \"Redesigning 50: The No-Plastic-Surgery Guide to 21st-Century Age Defiance\" has 2 reviews with average rating 1.00\n",
       "    1. Book \"The Book of God and Physics: A Novel of the Voynich Mystery\" has 2 reviews with average rating 1.00\n",
       "6. Five top reviewers\n",
       "    1. Reviewer \"A1D2C0WDCSHUWZ\" has 734.0 reviews with 4.59 mean rating\n",
       "    1. Reviewer \"A2F6N60Z96CAJI\" has 623.0 reviews with 4.59 mean rating\n",
       "    1. Reviewer \"A1K1JW1C5CUSUZ\" has 390.0 reviews with 4.46 mean rating\n",
       "    1. Reviewer \"A2TX179XAT5GRP\" has 303.0 reviews with 4.68 mean rating\n",
       "    1. Reviewer \"A2OJW07GQRNJUT\" has 302.0 reviews with 4.92 mean rating\n",
       "8. Most reviewed books\n",
       "    1. Book **\"Divergent\"** has 19657 reviews with average rating 4.42\n",
       "    1. Book **\"The Hobbit\"** has 18500 reviews with average rating 4.68\n",
       "    1. Book **\"All the Light We Cannot See\"** has 15922 reviews with average rating 4.54\n",
       "    1. Book **\"A Tale of Two Cities (Collins Classics)\"** has 7894 reviews with average rating 4.50\n",
       "    1. Book **\"Allegiant\"** has 7830 reviews with average rating 3.57\n",
       "5. How many books user reviewed:\n",
       "   1. 5% users reviewed 1.0 books or less\n",
       "   1. 25% users reviewed 1.0 books or less\n",
       "   1. 50% users reviewed 1.0 books or less\n",
       "   1. 75% users reviewed 2.0 books or less\n",
       "   1. 95% users reviewed 4.0 books or less\n"
      ],
      "text/plain": [
       "<IPython.core.display.Markdown object>"
      ]
     },
     "metadata": {},
     "output_type": "display_data"
    }
   ],
   "source": [
    "summary(books)"
   ]
  }
 ],
 "metadata": {
  "interpreter": {
   "hash": "2e922983c817b26f3ec6844b3d9ffab68008f0c6f985cc75631de65c829714fe"
  },
  "kernelspec": {
   "display_name": "Python 3.9.5 64-bit (system)",
   "language": "python",
   "name": "python3"
  },
  "language_info": {
   "codemirror_mode": {
    "name": "ipython",
    "version": 3
   },
   "file_extension": ".py",
   "mimetype": "text/x-python",
   "name": "python",
   "nbconvert_exporter": "python",
   "pygments_lexer": "ipython3",
   "version": "3.9.5"
  },
  "orig_nbformat": 4
 },
 "nbformat": 4,
 "nbformat_minor": 2
}
