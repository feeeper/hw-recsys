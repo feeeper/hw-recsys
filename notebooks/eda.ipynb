{
 "cells": [
  {
   "cell_type": "code",
   "execution_count": 318,
   "metadata": {},
   "outputs": [],
   "source": [
    "import pandas as pd\n",
    "import numpy as np\n",
    "import seaborn\n",
    "import json\n",
    "from tqdm.notebook import tqdm\n",
    "from collections import Counter\n",
    "import plotly.express as px\n"
   ]
  },
  {
   "cell_type": "markdown",
   "metadata": {},
   "source": [
    "# Read data"
   ]
  },
  {
   "cell_type": "code",
   "execution_count": 261,
   "metadata": {},
   "outputs": [
    {
     "data": {
      "application/vnd.jupyter.widget-view+json": {
       "model_id": "6444563bc99a479fa3c8d324e99baa66",
       "version_major": 2,
       "version_minor": 0
      },
      "text/plain": [
       "  0%|          | 0/1000000 [00:00<?, ?it/s]"
      ]
     },
     "metadata": {},
     "output_type": "display_data"
    },
    {
     "data": {
      "application/vnd.jupyter.widget-view+json": {
       "model_id": "d0e3f9ae0e5b460e936e718ba1d578f9",
       "version_major": 2,
       "version_minor": 0
      },
      "text/plain": [
       "  0%|          | 0/1000000 [00:00<?, ?it/s]"
      ]
     },
     "metadata": {},
     "output_type": "display_data"
    },
    {
     "name": "stdout",
     "output_type": "stream",
     "text": [
      "video_games.shape=(497577, 12)\n",
      "video_games_meta.shape=(84819, 19)\n"
     ]
    }
   ],
   "source": [
    "def read_data(path: str, n: int = 1_000_000) -> pd.DataFrame:\n",
    "    items = []\n",
    "    with open(path, 'r') as data_file:      \n",
    "        for _ in tqdm(range(n)):\n",
    "            line = data_file.readline()\n",
    "            if not line:\n",
    "                break\n",
    "            items.append(json.loads(line))\n",
    "    return pd.DataFrame(items)\n",
    "\n",
    "video_games = read_data('../data/raw/Video_Games_5.json')\n",
    "video_games_meta = read_data('../data/raw/meta_Video_Games.json')\n",
    "print(f'{video_games.shape=}')\n",
    "print(f'{video_games_meta.shape=}')"
   ]
  },
  {
   "cell_type": "code",
   "execution_count": 242,
   "metadata": {},
   "outputs": [
    {
     "data": {
      "text/html": [
       "<div>\n",
       "<style scoped>\n",
       "    .dataframe tbody tr th:only-of-type {\n",
       "        vertical-align: middle;\n",
       "    }\n",
       "\n",
       "    .dataframe tbody tr th {\n",
       "        vertical-align: top;\n",
       "    }\n",
       "\n",
       "    .dataframe thead th {\n",
       "        text-align: right;\n",
       "    }\n",
       "</style>\n",
       "<table border=\"1\" class=\"dataframe\">\n",
       "  <thead>\n",
       "    <tr style=\"text-align: right;\">\n",
       "      <th></th>\n",
       "      <th>category</th>\n",
       "      <th>tech1</th>\n",
       "      <th>description</th>\n",
       "      <th>fit</th>\n",
       "      <th>title</th>\n",
       "      <th>also_buy</th>\n",
       "      <th>tech2</th>\n",
       "      <th>brand</th>\n",
       "      <th>feature</th>\n",
       "      <th>rank</th>\n",
       "      <th>...</th>\n",
       "      <th>PlayStation_4</th>\n",
       "      <th>Wii</th>\n",
       "      <th>Controllers</th>\n",
       "      <th>Nintendo_DS</th>\n",
       "      <th>PlayStation</th>\n",
       "      <th>Xbox_One</th>\n",
       "      <th>Xbox</th>\n",
       "      <th>Game_Boy_Advance</th>\n",
       "      <th>Nintendo_3DS_and_2DS</th>\n",
       "      <th>Sony_PSP</th>\n",
       "    </tr>\n",
       "  </thead>\n",
       "  <tbody>\n",
       "    <tr>\n",
       "      <th>0</th>\n",
       "      <td>{Video Games, Games, PC}</td>\n",
       "      <td></td>\n",
       "      <td>[]</td>\n",
       "      <td></td>\n",
       "      <td>Reversi Sensory Challenger</td>\n",
       "      <td>[]</td>\n",
       "      <td></td>\n",
       "      <td>Fidelity Electronics</td>\n",
       "      <td>[]</td>\n",
       "      <td>[&gt;#2,623,937 in Toys &amp;amp; Games (See Top 100 ...</td>\n",
       "      <td>...</td>\n",
       "      <td>0</td>\n",
       "      <td>0</td>\n",
       "      <td>0</td>\n",
       "      <td>0</td>\n",
       "      <td>0</td>\n",
       "      <td>0</td>\n",
       "      <td>0</td>\n",
       "      <td>0</td>\n",
       "      <td>0</td>\n",
       "      <td>0</td>\n",
       "    </tr>\n",
       "    <tr>\n",
       "      <th>1</th>\n",
       "      <td>{Xbox 360, Video Games, Games, &lt;/span&gt;&lt;/span&gt;&lt;...</td>\n",
       "      <td></td>\n",
       "      <td>[Brand new sealed!]</td>\n",
       "      <td></td>\n",
       "      <td>Medal of Honor: Warfighter - Includes Battlefi...</td>\n",
       "      <td>[B00PADROYW]</td>\n",
       "      <td></td>\n",
       "      <td>by\\n    \\n    EA Games</td>\n",
       "      <td>[]</td>\n",
       "      <td>[&gt;#67,231 in Video Games (See Top 100 in Video...</td>\n",
       "      <td>...</td>\n",
       "      <td>0</td>\n",
       "      <td>0</td>\n",
       "      <td>0</td>\n",
       "      <td>0</td>\n",
       "      <td>0</td>\n",
       "      <td>0</td>\n",
       "      <td>0</td>\n",
       "      <td>0</td>\n",
       "      <td>0</td>\n",
       "      <td>0</td>\n",
       "    </tr>\n",
       "    <tr>\n",
       "      <th>2</th>\n",
       "      <td>{Video Games, Retro Gaming &amp; Microconsoles, Ga...</td>\n",
       "      <td></td>\n",
       "      <td>[]</td>\n",
       "      <td></td>\n",
       "      <td>street fighter 2 II turbo super nintendo snes ...</td>\n",
       "      <td>[]</td>\n",
       "      <td></td>\n",
       "      <td>Nintendo</td>\n",
       "      <td>[]</td>\n",
       "      <td>[&gt;#134,433 in Video Games (See Top 100 in Vide...</td>\n",
       "      <td>...</td>\n",
       "      <td>0</td>\n",
       "      <td>0</td>\n",
       "      <td>0</td>\n",
       "      <td>0</td>\n",
       "      <td>0</td>\n",
       "      <td>0</td>\n",
       "      <td>0</td>\n",
       "      <td>0</td>\n",
       "      <td>0</td>\n",
       "      <td>0</td>\n",
       "    </tr>\n",
       "    <tr>\n",
       "      <th>3</th>\n",
       "      <td>{Joysticks, Uses USB port of your Xbox 360 (no...</td>\n",
       "      <td></td>\n",
       "      <td>[MAS's Pro Xbox 360 Stick (Perfect 360 Stick) ...</td>\n",
       "      <td></td>\n",
       "      <td>Xbox 360 MAS STICK</td>\n",
       "      <td>[]</td>\n",
       "      <td></td>\n",
       "      <td>by\\n    \\n    MAS SYSTEMS</td>\n",
       "      <td>[Original PCB used from Xbox 360 Control Pad (...</td>\n",
       "      <td>[&gt;#105,263 in Video Games (See Top 100 in Vide...</td>\n",
       "      <td>...</td>\n",
       "      <td>0</td>\n",
       "      <td>0</td>\n",
       "      <td>1</td>\n",
       "      <td>0</td>\n",
       "      <td>0</td>\n",
       "      <td>0</td>\n",
       "      <td>0</td>\n",
       "      <td>0</td>\n",
       "      <td>0</td>\n",
       "      <td>0</td>\n",
       "    </tr>\n",
       "    <tr>\n",
       "      <th>4</th>\n",
       "      <td>{Treats Sight Words, Records Results, PC, Teac...</td>\n",
       "      <td></td>\n",
       "      <td>[Phonics Alive! 3, The Speller teaches student...</td>\n",
       "      <td></td>\n",
       "      <td>Phonics Alive! 3: The Speller</td>\n",
       "      <td>[]</td>\n",
       "      <td></td>\n",
       "      <td>by\\n    \\n    Advanced Software Pty. Ltd.</td>\n",
       "      <td>[Grades 2-12, Spelling Program, Teaches Spelli...</td>\n",
       "      <td>[&gt;#92,397 in Video Games (See Top 100 in Video...</td>\n",
       "      <td>...</td>\n",
       "      <td>0</td>\n",
       "      <td>0</td>\n",
       "      <td>0</td>\n",
       "      <td>0</td>\n",
       "      <td>0</td>\n",
       "      <td>0</td>\n",
       "      <td>0</td>\n",
       "      <td>0</td>\n",
       "      <td>0</td>\n",
       "      <td>0</td>\n",
       "    </tr>\n",
       "    <tr>\n",
       "      <th>5</th>\n",
       "      <td>{PC, Sim City 3000 CD-ROM, Video Games, Games,...</td>\n",
       "      <td></td>\n",
       "      <td>[CD-ROM]</td>\n",
       "      <td></td>\n",
       "      <td>Sim City 3000</td>\n",
       "      <td>[]</td>\n",
       "      <td></td>\n",
       "      <td>by\\n    \\n    Scholastic</td>\n",
       "      <td>[Sim City 3000 CD-ROM]</td>\n",
       "      <td>[&gt;#19,087 in Video Games (See Top 100 in Video...</td>\n",
       "      <td>...</td>\n",
       "      <td>0</td>\n",
       "      <td>0</td>\n",
       "      <td>0</td>\n",
       "      <td>0</td>\n",
       "      <td>0</td>\n",
       "      <td>0</td>\n",
       "      <td>0</td>\n",
       "      <td>0</td>\n",
       "      <td>0</td>\n",
       "      <td>0</td>\n",
       "    </tr>\n",
       "    <tr>\n",
       "      <th>6</th>\n",
       "      <td>{PC, Video Games, Phonics Alive! 2 The Sound B...</td>\n",
       "      <td></td>\n",
       "      <td>[]</td>\n",
       "      <td></td>\n",
       "      <td>Phonics Alive! 2 The Sound Blender</td>\n",
       "      <td>[]</td>\n",
       "      <td></td>\n",
       "      <td>by\\n    \\n    Advanced Software Party</td>\n",
       "      <td>[Phonics Alive! 2 The Sound Blender is a new a...</td>\n",
       "      <td>[&gt;#117,477 in Video Games (See Top 100 in Vide...</td>\n",
       "      <td>...</td>\n",
       "      <td>0</td>\n",
       "      <td>0</td>\n",
       "      <td>0</td>\n",
       "      <td>0</td>\n",
       "      <td>0</td>\n",
       "      <td>0</td>\n",
       "      <td>0</td>\n",
       "      <td>0</td>\n",
       "      <td>0</td>\n",
       "      <td>0</td>\n",
       "    </tr>\n",
       "    <tr>\n",
       "      <th>7</th>\n",
       "      <td>{Video Games, Games, PC, &lt;/span&gt;&lt;/span&gt;&lt;/span&gt;}</td>\n",
       "      <td></td>\n",
       "      <td>[a scholastic clubs fairs cd rom game]</td>\n",
       "      <td></td>\n",
       "      <td>A to Zap</td>\n",
       "      <td>[]</td>\n",
       "      <td></td>\n",
       "      <td>by\\n    \\n    sunburst</td>\n",
       "      <td>[]</td>\n",
       "      <td>[&gt;#87,937 in Video Games (See Top 100 in Video...</td>\n",
       "      <td>...</td>\n",
       "      <td>0</td>\n",
       "      <td>0</td>\n",
       "      <td>0</td>\n",
       "      <td>0</td>\n",
       "      <td>0</td>\n",
       "      <td>0</td>\n",
       "      <td>0</td>\n",
       "      <td>0</td>\n",
       "      <td>0</td>\n",
       "      <td>0</td>\n",
       "    </tr>\n",
       "    <tr>\n",
       "      <th>8</th>\n",
       "      <td>{Video Games, Games, PC}</td>\n",
       "      <td></td>\n",
       "      <td>[video game]</td>\n",
       "      <td></td>\n",
       "      <td>Need for Speed Porsche Unleashed</td>\n",
       "      <td>[]</td>\n",
       "      <td></td>\n",
       "      <td>Electronic Arts</td>\n",
       "      <td>[video game]</td>\n",
       "      <td>[&gt;#51,505 in Video Games (See Top 100 in Video...</td>\n",
       "      <td>...</td>\n",
       "      <td>0</td>\n",
       "      <td>0</td>\n",
       "      <td>0</td>\n",
       "      <td>0</td>\n",
       "      <td>0</td>\n",
       "      <td>0</td>\n",
       "      <td>0</td>\n",
       "      <td>0</td>\n",
       "      <td>0</td>\n",
       "      <td>0</td>\n",
       "    </tr>\n",
       "    <tr>\n",
       "      <th>9</th>\n",
       "      <td>{PC, Discover fascinating places like King Cra...</td>\n",
       "      <td></td>\n",
       "      <td>[Grandma Groupers kelp seeds are missing and w...</td>\n",
       "      <td></td>\n",
       "      <td>Freddi Fish and the Case of The Missing Kelp S...</td>\n",
       "      <td>[B00002S6E5, B000NQI666, B000AQJ4AG, B000FETCF...</td>\n",
       "      <td></td>\n",
       "      <td>by\\n    \\n    Humongous Entertainment</td>\n",
       "      <td>[Like the real world, Freddi Fishs world chang...</td>\n",
       "      <td>[&gt;#58,523 in Video Games (See Top 100 in Video...</td>\n",
       "      <td>...</td>\n",
       "      <td>0</td>\n",
       "      <td>0</td>\n",
       "      <td>0</td>\n",
       "      <td>0</td>\n",
       "      <td>0</td>\n",
       "      <td>0</td>\n",
       "      <td>0</td>\n",
       "      <td>0</td>\n",
       "      <td>0</td>\n",
       "      <td>0</td>\n",
       "    </tr>\n",
       "  </tbody>\n",
       "</table>\n",
       "<p>10 rows × 39 columns</p>\n",
       "</div>"
      ],
      "text/plain": [
       "                                            category tech1  \\\n",
       "0                           {Video Games, Games, PC}         \n",
       "1  {Xbox 360, Video Games, Games, </span></span><...         \n",
       "2  {Video Games, Retro Gaming & Microconsoles, Ga...         \n",
       "3  {Joysticks, Uses USB port of your Xbox 360 (no...         \n",
       "4  {Treats Sight Words, Records Results, PC, Teac...         \n",
       "5  {PC, Sim City 3000 CD-ROM, Video Games, Games,...         \n",
       "6  {PC, Video Games, Phonics Alive! 2 The Sound B...         \n",
       "7    {Video Games, Games, PC, </span></span></span>}         \n",
       "8                           {Video Games, Games, PC}         \n",
       "9  {PC, Discover fascinating places like King Cra...         \n",
       "\n",
       "                                         description fit  \\\n",
       "0                                                 []       \n",
       "1                                [Brand new sealed!]       \n",
       "2                                                 []       \n",
       "3  [MAS's Pro Xbox 360 Stick (Perfect 360 Stick) ...       \n",
       "4  [Phonics Alive! 3, The Speller teaches student...       \n",
       "5                                           [CD-ROM]       \n",
       "6                                                 []       \n",
       "7             [a scholastic clubs fairs cd rom game]       \n",
       "8                                       [video game]       \n",
       "9  [Grandma Groupers kelp seeds are missing and w...       \n",
       "\n",
       "                                               title  \\\n",
       "0                         Reversi Sensory Challenger   \n",
       "1  Medal of Honor: Warfighter - Includes Battlefi...   \n",
       "2  street fighter 2 II turbo super nintendo snes ...   \n",
       "3                                 Xbox 360 MAS STICK   \n",
       "4                      Phonics Alive! 3: The Speller   \n",
       "5                                      Sim City 3000   \n",
       "6                 Phonics Alive! 2 The Sound Blender   \n",
       "7                                           A to Zap   \n",
       "8                   Need for Speed Porsche Unleashed   \n",
       "9  Freddi Fish and the Case of The Missing Kelp S...   \n",
       "\n",
       "                                            also_buy tech2  \\\n",
       "0                                                 []         \n",
       "1                                       [B00PADROYW]         \n",
       "2                                                 []         \n",
       "3                                                 []         \n",
       "4                                                 []         \n",
       "5                                                 []         \n",
       "6                                                 []         \n",
       "7                                                 []         \n",
       "8                                                 []         \n",
       "9  [B00002S6E5, B000NQI666, B000AQJ4AG, B000FETCF...         \n",
       "\n",
       "                                       brand  \\\n",
       "0                       Fidelity Electronics   \n",
       "1                     by\\n    \\n    EA Games   \n",
       "2                                   Nintendo   \n",
       "3                  by\\n    \\n    MAS SYSTEMS   \n",
       "4  by\\n    \\n    Advanced Software Pty. Ltd.   \n",
       "5                   by\\n    \\n    Scholastic   \n",
       "6      by\\n    \\n    Advanced Software Party   \n",
       "7                     by\\n    \\n    sunburst   \n",
       "8                            Electronic Arts   \n",
       "9      by\\n    \\n    Humongous Entertainment   \n",
       "\n",
       "                                             feature  \\\n",
       "0                                                 []   \n",
       "1                                                 []   \n",
       "2                                                 []   \n",
       "3  [Original PCB used from Xbox 360 Control Pad (...   \n",
       "4  [Grades 2-12, Spelling Program, Teaches Spelli...   \n",
       "5                             [Sim City 3000 CD-ROM]   \n",
       "6  [Phonics Alive! 2 The Sound Blender is a new a...   \n",
       "7                                                 []   \n",
       "8                                       [video game]   \n",
       "9  [Like the real world, Freddi Fishs world chang...   \n",
       "\n",
       "                                                rank  ... PlayStation_4 Wii  \\\n",
       "0  [>#2,623,937 in Toys &amp; Games (See Top 100 ...  ...             0   0   \n",
       "1  [>#67,231 in Video Games (See Top 100 in Video...  ...             0   0   \n",
       "2  [>#134,433 in Video Games (See Top 100 in Vide...  ...             0   0   \n",
       "3  [>#105,263 in Video Games (See Top 100 in Vide...  ...             0   0   \n",
       "4  [>#92,397 in Video Games (See Top 100 in Video...  ...             0   0   \n",
       "5  [>#19,087 in Video Games (See Top 100 in Video...  ...             0   0   \n",
       "6  [>#117,477 in Video Games (See Top 100 in Vide...  ...             0   0   \n",
       "7  [>#87,937 in Video Games (See Top 100 in Video...  ...             0   0   \n",
       "8  [>#51,505 in Video Games (See Top 100 in Video...  ...             0   0   \n",
       "9  [>#58,523 in Video Games (See Top 100 in Video...  ...             0   0   \n",
       "\n",
       "  Controllers Nintendo_DS PlayStation Xbox_One Xbox Game_Boy_Advance  \\\n",
       "0           0           0           0        0    0                0   \n",
       "1           0           0           0        0    0                0   \n",
       "2           0           0           0        0    0                0   \n",
       "3           1           0           0        0    0                0   \n",
       "4           0           0           0        0    0                0   \n",
       "5           0           0           0        0    0                0   \n",
       "6           0           0           0        0    0                0   \n",
       "7           0           0           0        0    0                0   \n",
       "8           0           0           0        0    0                0   \n",
       "9           0           0           0        0    0                0   \n",
       "\n",
       "  Nintendo_3DS_and_2DS  Sony_PSP  \n",
       "0                    0         0  \n",
       "1                    0         0  \n",
       "2                    0         0  \n",
       "3                    0         0  \n",
       "4                    0         0  \n",
       "5                    0         0  \n",
       "6                    0         0  \n",
       "7                    0         0  \n",
       "8                    0         0  \n",
       "9                    0         0  \n",
       "\n",
       "[10 rows x 39 columns]"
      ]
     },
     "execution_count": 242,
     "metadata": {},
     "output_type": "execute_result"
    }
   ],
   "source": [
    "video_games_meta.head(10)"
   ]
  },
  {
   "cell_type": "code",
   "execution_count": 199,
   "metadata": {},
   "outputs": [],
   "source": [
    "c = video_games_meta['category'].values\n",
    "categories = sum([x for x in c], [])"
   ]
  },
  {
   "cell_type": "code",
   "execution_count": 262,
   "metadata": {},
   "outputs": [],
   "source": [
    "video_games_meta['category'] = video_games_meta['category'].apply(lambda x: set(x))"
   ]
  },
  {
   "cell_type": "code",
   "execution_count": 264,
   "metadata": {},
   "outputs": [],
   "source": [
    "cat_counter = Counter(categories)\n",
    "cat_counter['Retro Gaming & Microconsoles'] += cat_counter['Retro Gaming &amp; Microconsoles']\n",
    "\n",
    "del cat_counter['</span></span></span>']\n",
    "del cat_counter['Retro Gaming &amp; Microconsoles']\n",
    "\n",
    "twenty_most_popular_categories = [(name, count, f'{count / video_games_meta.shape[0] * 100:.2f}%') for name, count in cat_counter.most_common(20)]\n",
    "twenty_most_popular_categories_names = [name for name, _, _ in twenty_most_popular_categories]"
   ]
  },
  {
   "cell_type": "code",
   "execution_count": 266,
   "metadata": {},
   "outputs": [],
   "source": [
    "# twenty_most_popular_categories_names = ['Video Games',\n",
    "#  'Games',\n",
    "#  'Accessories',\n",
    "#  'PC',\n",
    "#  'Retro Gaming & Microconsoles',\n",
    "#  'Kids & Family',\n",
    "#  'Xbox 360',\n",
    "#  'PlayStation 2',\n",
    "#  'Faceplates, Protectors & Skins',\n",
    "#  'PlayStation 3',\n",
    "#  'PlayStation 4',\n",
    "#  'Wii',\n",
    "#  'Controllers',\n",
    "#  'Nintendo DS',\n",
    "#  'PlayStation',\n",
    "#  'Xbox One',\n",
    "#  'Xbox',\n",
    "#  'Game Boy Advance',\n",
    "#  'Nintendo 3DS & 2DS',\n",
    "#  'Sony PSP']"
   ]
  },
  {
   "cell_type": "code",
   "execution_count": 267,
   "metadata": {},
   "outputs": [
    {
     "data": {
      "application/vnd.jupyter.widget-view+json": {
       "model_id": "7f8499807b7d435bb6826ddf08046dd1",
       "version_major": 2,
       "version_minor": 0
      },
      "text/plain": [
       "  0%|          | 0/20 [00:00<?, ?it/s]"
      ]
     },
     "metadata": {},
     "output_type": "display_data"
    }
   ],
   "source": [
    "for cat_name in tqdm(twenty_most_popular_categories_names):\n",
    "    video_games_meta[cat_name.replace(' ', '_').replace('&', 'and').replace(',', '_')] = video_games_meta['category'].apply(lambda x: int(cat_name in x))"
   ]
  },
  {
   "cell_type": "code",
   "execution_count": 310,
   "metadata": {},
   "outputs": [
    {
     "data": {
      "text/html": [
       "<div>\n",
       "<style scoped>\n",
       "    .dataframe tbody tr th:only-of-type {\n",
       "        vertical-align: middle;\n",
       "    }\n",
       "\n",
       "    .dataframe tbody tr th {\n",
       "        vertical-align: top;\n",
       "    }\n",
       "\n",
       "    .dataframe thead th {\n",
       "        text-align: right;\n",
       "    }\n",
       "</style>\n",
       "<table border=\"1\" class=\"dataframe\">\n",
       "  <thead>\n",
       "    <tr style=\"text-align: right;\">\n",
       "      <th></th>\n",
       "      <th>category</th>\n",
       "      <th>tech1</th>\n",
       "      <th>description</th>\n",
       "      <th>fit</th>\n",
       "      <th>title</th>\n",
       "      <th>also_buy</th>\n",
       "      <th>tech2</th>\n",
       "      <th>brand</th>\n",
       "      <th>feature</th>\n",
       "      <th>rank</th>\n",
       "      <th>...</th>\n",
       "      <th>PlayStation_4</th>\n",
       "      <th>Wii</th>\n",
       "      <th>Controllers</th>\n",
       "      <th>Nintendo_DS</th>\n",
       "      <th>PlayStation</th>\n",
       "      <th>Xbox_One</th>\n",
       "      <th>Xbox</th>\n",
       "      <th>Game_Boy_Advance</th>\n",
       "      <th>Nintendo_3DS_and_2DS</th>\n",
       "      <th>Sony_PSP</th>\n",
       "    </tr>\n",
       "  </thead>\n",
       "  <tbody>\n",
       "    <tr>\n",
       "      <th>0</th>\n",
       "      <td>{Video Games, Games, PC}</td>\n",
       "      <td></td>\n",
       "      <td>[]</td>\n",
       "      <td></td>\n",
       "      <td>Reversi Sensory Challenger</td>\n",
       "      <td>[]</td>\n",
       "      <td></td>\n",
       "      <td>Fidelity Electronics</td>\n",
       "      <td>[]</td>\n",
       "      <td>[&gt;#2,623,937 in Toys &amp;amp; Games (See Top 100 ...</td>\n",
       "      <td>...</td>\n",
       "      <td>0</td>\n",
       "      <td>0</td>\n",
       "      <td>0</td>\n",
       "      <td>0</td>\n",
       "      <td>0</td>\n",
       "      <td>0</td>\n",
       "      <td>0</td>\n",
       "      <td>0</td>\n",
       "      <td>0</td>\n",
       "      <td>0</td>\n",
       "    </tr>\n",
       "    <tr>\n",
       "      <th>1</th>\n",
       "      <td>{Xbox 360, Video Games, Games, &lt;/span&gt;&lt;/span&gt;&lt;...</td>\n",
       "      <td></td>\n",
       "      <td>[Brand new sealed!]</td>\n",
       "      <td></td>\n",
       "      <td>Medal of Honor: Warfighter - Includes Battlefi...</td>\n",
       "      <td>[B00PADROYW]</td>\n",
       "      <td></td>\n",
       "      <td>by\\n    \\n    EA Games</td>\n",
       "      <td>[]</td>\n",
       "      <td>[&gt;#67,231 in Video Games (See Top 100 in Video...</td>\n",
       "      <td>...</td>\n",
       "      <td>0</td>\n",
       "      <td>0</td>\n",
       "      <td>0</td>\n",
       "      <td>0</td>\n",
       "      <td>0</td>\n",
       "      <td>0</td>\n",
       "      <td>0</td>\n",
       "      <td>0</td>\n",
       "      <td>0</td>\n",
       "      <td>0</td>\n",
       "    </tr>\n",
       "    <tr>\n",
       "      <th>2</th>\n",
       "      <td>{Video Games, Retro Gaming &amp; Microconsoles, Ga...</td>\n",
       "      <td></td>\n",
       "      <td>[]</td>\n",
       "      <td></td>\n",
       "      <td>street fighter 2 II turbo super nintendo snes ...</td>\n",
       "      <td>[]</td>\n",
       "      <td></td>\n",
       "      <td>Nintendo</td>\n",
       "      <td>[]</td>\n",
       "      <td>[&gt;#134,433 in Video Games (See Top 100 in Vide...</td>\n",
       "      <td>...</td>\n",
       "      <td>0</td>\n",
       "      <td>0</td>\n",
       "      <td>0</td>\n",
       "      <td>0</td>\n",
       "      <td>0</td>\n",
       "      <td>0</td>\n",
       "      <td>0</td>\n",
       "      <td>0</td>\n",
       "      <td>0</td>\n",
       "      <td>0</td>\n",
       "    </tr>\n",
       "    <tr>\n",
       "      <th>3</th>\n",
       "      <td>{Joysticks, Uses USB port of your Xbox 360 (no...</td>\n",
       "      <td></td>\n",
       "      <td>[MAS's Pro Xbox 360 Stick (Perfect 360 Stick) ...</td>\n",
       "      <td></td>\n",
       "      <td>Xbox 360 MAS STICK</td>\n",
       "      <td>[]</td>\n",
       "      <td></td>\n",
       "      <td>by\\n    \\n    MAS SYSTEMS</td>\n",
       "      <td>[Original PCB used from Xbox 360 Control Pad (...</td>\n",
       "      <td>[&gt;#105,263 in Video Games (See Top 100 in Vide...</td>\n",
       "      <td>...</td>\n",
       "      <td>0</td>\n",
       "      <td>0</td>\n",
       "      <td>1</td>\n",
       "      <td>0</td>\n",
       "      <td>0</td>\n",
       "      <td>0</td>\n",
       "      <td>0</td>\n",
       "      <td>0</td>\n",
       "      <td>0</td>\n",
       "      <td>0</td>\n",
       "    </tr>\n",
       "    <tr>\n",
       "      <th>4</th>\n",
       "      <td>{Treats Sight Words, Records Results, PC, Teac...</td>\n",
       "      <td></td>\n",
       "      <td>[Phonics Alive! 3, The Speller teaches student...</td>\n",
       "      <td></td>\n",
       "      <td>Phonics Alive! 3: The Speller</td>\n",
       "      <td>[]</td>\n",
       "      <td></td>\n",
       "      <td>by\\n    \\n    Advanced Software Pty. Ltd.</td>\n",
       "      <td>[Grades 2-12, Spelling Program, Teaches Spelli...</td>\n",
       "      <td>[&gt;#92,397 in Video Games (See Top 100 in Video...</td>\n",
       "      <td>...</td>\n",
       "      <td>0</td>\n",
       "      <td>0</td>\n",
       "      <td>0</td>\n",
       "      <td>0</td>\n",
       "      <td>0</td>\n",
       "      <td>0</td>\n",
       "      <td>0</td>\n",
       "      <td>0</td>\n",
       "      <td>0</td>\n",
       "      <td>0</td>\n",
       "    </tr>\n",
       "  </tbody>\n",
       "</table>\n",
       "<p>5 rows × 39 columns</p>\n",
       "</div>"
      ],
      "text/plain": [
       "                                            category tech1  \\\n",
       "0                           {Video Games, Games, PC}         \n",
       "1  {Xbox 360, Video Games, Games, </span></span><...         \n",
       "2  {Video Games, Retro Gaming & Microconsoles, Ga...         \n",
       "3  {Joysticks, Uses USB port of your Xbox 360 (no...         \n",
       "4  {Treats Sight Words, Records Results, PC, Teac...         \n",
       "\n",
       "                                         description fit  \\\n",
       "0                                                 []       \n",
       "1                                [Brand new sealed!]       \n",
       "2                                                 []       \n",
       "3  [MAS's Pro Xbox 360 Stick (Perfect 360 Stick) ...       \n",
       "4  [Phonics Alive! 3, The Speller teaches student...       \n",
       "\n",
       "                                               title      also_buy tech2  \\\n",
       "0                         Reversi Sensory Challenger            []         \n",
       "1  Medal of Honor: Warfighter - Includes Battlefi...  [B00PADROYW]         \n",
       "2  street fighter 2 II turbo super nintendo snes ...            []         \n",
       "3                                 Xbox 360 MAS STICK            []         \n",
       "4                      Phonics Alive! 3: The Speller            []         \n",
       "\n",
       "                                       brand  \\\n",
       "0                       Fidelity Electronics   \n",
       "1                     by\\n    \\n    EA Games   \n",
       "2                                   Nintendo   \n",
       "3                  by\\n    \\n    MAS SYSTEMS   \n",
       "4  by\\n    \\n    Advanced Software Pty. Ltd.   \n",
       "\n",
       "                                             feature  \\\n",
       "0                                                 []   \n",
       "1                                                 []   \n",
       "2                                                 []   \n",
       "3  [Original PCB used from Xbox 360 Control Pad (...   \n",
       "4  [Grades 2-12, Spelling Program, Teaches Spelli...   \n",
       "\n",
       "                                                rank  ... PlayStation_4 Wii  \\\n",
       "0  [>#2,623,937 in Toys &amp; Games (See Top 100 ...  ...             0   0   \n",
       "1  [>#67,231 in Video Games (See Top 100 in Video...  ...             0   0   \n",
       "2  [>#134,433 in Video Games (See Top 100 in Vide...  ...             0   0   \n",
       "3  [>#105,263 in Video Games (See Top 100 in Vide...  ...             0   0   \n",
       "4  [>#92,397 in Video Games (See Top 100 in Video...  ...             0   0   \n",
       "\n",
       "  Controllers Nintendo_DS PlayStation Xbox_One Xbox Game_Boy_Advance  \\\n",
       "0           0           0           0        0    0                0   \n",
       "1           0           0           0        0    0                0   \n",
       "2           0           0           0        0    0                0   \n",
       "3           1           0           0        0    0                0   \n",
       "4           0           0           0        0    0                0   \n",
       "\n",
       "  Nintendo_3DS_and_2DS  Sony_PSP  \n",
       "0                    0         0  \n",
       "1                    0         0  \n",
       "2                    0         0  \n",
       "3                    0         0  \n",
       "4                    0         0  \n",
       "\n",
       "[5 rows x 39 columns]"
      ]
     },
     "execution_count": 310,
     "metadata": {},
     "output_type": "execute_result"
    }
   ],
   "source": [
    "video_games_meta.head()"
   ]
  },
  {
   "cell_type": "code",
   "execution_count": null,
   "metadata": {},
   "outputs": [],
   "source": [
    "# not_unique_game_ids = [x[0] for x in Counter(video_games_meta['asin'].values).most_common() if x[1] > 1]\n",
    "# drop = ['category','description','also_buy','feature','rank','also_view','imageURL','imageURLHighRes','details']\n",
    "# print(video_games_meta[video_games_meta['asin'].isin(not_unique_game_ids)].drop(drop, axis='columns').shape)\n",
    "# print(video_games_meta[video_games_meta['asin'].isin(not_unique_game_ids)].drop(drop, axis='columns').drop_duplicates().shape)"
   ]
  },
  {
   "cell_type": "code",
   "execution_count": 312,
   "metadata": {},
   "outputs": [],
   "source": [
    "video_games_meta_wo_duplicates = video_games_meta.drop_duplicates('asin')\n",
    "video_games = pd.merge(video_games, video_games_meta_wo_duplicates, how='left', on='asin')\n",
    "video_games\n",
    "video_games.to_csv('../data/interim/video_games.csv.zip', compression='zip')"
   ]
  },
  {
   "cell_type": "code",
   "execution_count": 315,
   "metadata": {},
   "outputs": [
    {
     "data": {
      "text/html": [
       "<div>\n",
       "<style scoped>\n",
       "    .dataframe tbody tr th:only-of-type {\n",
       "        vertical-align: middle;\n",
       "    }\n",
       "\n",
       "    .dataframe tbody tr th {\n",
       "        vertical-align: top;\n",
       "    }\n",
       "\n",
       "    .dataframe thead th {\n",
       "        text-align: right;\n",
       "    }\n",
       "</style>\n",
       "<table border=\"1\" class=\"dataframe\">\n",
       "  <thead>\n",
       "    <tr style=\"text-align: right;\">\n",
       "      <th></th>\n",
       "      <th>overall</th>\n",
       "      <th>verified</th>\n",
       "      <th>reviewTime</th>\n",
       "      <th>reviewerID</th>\n",
       "      <th>asin</th>\n",
       "      <th>reviewerName</th>\n",
       "      <th>reviewText</th>\n",
       "      <th>summary</th>\n",
       "      <th>unixReviewTime</th>\n",
       "      <th>vote</th>\n",
       "      <th>...</th>\n",
       "      <th>PlayStation_4</th>\n",
       "      <th>Wii</th>\n",
       "      <th>Controllers</th>\n",
       "      <th>Nintendo_DS</th>\n",
       "      <th>PlayStation</th>\n",
       "      <th>Xbox_One</th>\n",
       "      <th>Xbox</th>\n",
       "      <th>Game_Boy_Advance</th>\n",
       "      <th>Nintendo_3DS_and_2DS</th>\n",
       "      <th>Sony_PSP</th>\n",
       "    </tr>\n",
       "  </thead>\n",
       "  <tbody>\n",
       "    <tr>\n",
       "      <th>0</th>\n",
       "      <td>5.0</td>\n",
       "      <td>True</td>\n",
       "      <td>10 17, 2015</td>\n",
       "      <td>A1HP7NVNPFMA4N</td>\n",
       "      <td>0700026657</td>\n",
       "      <td>Ambrosia075</td>\n",
       "      <td>This game is a bit hard to get the hang of, bu...</td>\n",
       "      <td>but when you do it's great.</td>\n",
       "      <td>1445040000</td>\n",
       "      <td>NaN</td>\n",
       "      <td>...</td>\n",
       "      <td>0.0</td>\n",
       "      <td>0.0</td>\n",
       "      <td>0.0</td>\n",
       "      <td>0.0</td>\n",
       "      <td>0.0</td>\n",
       "      <td>0.0</td>\n",
       "      <td>0.0</td>\n",
       "      <td>0.0</td>\n",
       "      <td>0.0</td>\n",
       "      <td>0.0</td>\n",
       "    </tr>\n",
       "    <tr>\n",
       "      <th>1</th>\n",
       "      <td>4.0</td>\n",
       "      <td>False</td>\n",
       "      <td>07 27, 2015</td>\n",
       "      <td>A1JGAP0185YJI6</td>\n",
       "      <td>0700026657</td>\n",
       "      <td>travis</td>\n",
       "      <td>I played it a while but it was alright. The st...</td>\n",
       "      <td>But in spite of that it was fun, I liked it</td>\n",
       "      <td>1437955200</td>\n",
       "      <td>NaN</td>\n",
       "      <td>...</td>\n",
       "      <td>0.0</td>\n",
       "      <td>0.0</td>\n",
       "      <td>0.0</td>\n",
       "      <td>0.0</td>\n",
       "      <td>0.0</td>\n",
       "      <td>0.0</td>\n",
       "      <td>0.0</td>\n",
       "      <td>0.0</td>\n",
       "      <td>0.0</td>\n",
       "      <td>0.0</td>\n",
       "    </tr>\n",
       "    <tr>\n",
       "      <th>2</th>\n",
       "      <td>3.0</td>\n",
       "      <td>True</td>\n",
       "      <td>02 23, 2015</td>\n",
       "      <td>A1YJWEXHQBWK2B</td>\n",
       "      <td>0700026657</td>\n",
       "      <td>Vincent G. Mezera</td>\n",
       "      <td>ok game.</td>\n",
       "      <td>Three Stars</td>\n",
       "      <td>1424649600</td>\n",
       "      <td>NaN</td>\n",
       "      <td>...</td>\n",
       "      <td>0.0</td>\n",
       "      <td>0.0</td>\n",
       "      <td>0.0</td>\n",
       "      <td>0.0</td>\n",
       "      <td>0.0</td>\n",
       "      <td>0.0</td>\n",
       "      <td>0.0</td>\n",
       "      <td>0.0</td>\n",
       "      <td>0.0</td>\n",
       "      <td>0.0</td>\n",
       "    </tr>\n",
       "    <tr>\n",
       "      <th>3</th>\n",
       "      <td>2.0</td>\n",
       "      <td>True</td>\n",
       "      <td>02 20, 2015</td>\n",
       "      <td>A2204E1TH211HT</td>\n",
       "      <td>0700026657</td>\n",
       "      <td>Grandma KR</td>\n",
       "      <td>found the game a bit too complicated, not what...</td>\n",
       "      <td>Two Stars</td>\n",
       "      <td>1424390400</td>\n",
       "      <td>NaN</td>\n",
       "      <td>...</td>\n",
       "      <td>0.0</td>\n",
       "      <td>0.0</td>\n",
       "      <td>0.0</td>\n",
       "      <td>0.0</td>\n",
       "      <td>0.0</td>\n",
       "      <td>0.0</td>\n",
       "      <td>0.0</td>\n",
       "      <td>0.0</td>\n",
       "      <td>0.0</td>\n",
       "      <td>0.0</td>\n",
       "    </tr>\n",
       "    <tr>\n",
       "      <th>4</th>\n",
       "      <td>5.0</td>\n",
       "      <td>True</td>\n",
       "      <td>12 25, 2014</td>\n",
       "      <td>A2RF5B5H74JLPE</td>\n",
       "      <td>0700026657</td>\n",
       "      <td>jon</td>\n",
       "      <td>great game, I love it and have played it since...</td>\n",
       "      <td>love this game</td>\n",
       "      <td>1419465600</td>\n",
       "      <td>NaN</td>\n",
       "      <td>...</td>\n",
       "      <td>0.0</td>\n",
       "      <td>0.0</td>\n",
       "      <td>0.0</td>\n",
       "      <td>0.0</td>\n",
       "      <td>0.0</td>\n",
       "      <td>0.0</td>\n",
       "      <td>0.0</td>\n",
       "      <td>0.0</td>\n",
       "      <td>0.0</td>\n",
       "      <td>0.0</td>\n",
       "    </tr>\n",
       "  </tbody>\n",
       "</table>\n",
       "<p>5 rows × 50 columns</p>\n",
       "</div>"
      ],
      "text/plain": [
       "   overall  verified   reviewTime      reviewerID        asin  \\\n",
       "0      5.0      True  10 17, 2015  A1HP7NVNPFMA4N  0700026657   \n",
       "1      4.0     False  07 27, 2015  A1JGAP0185YJI6  0700026657   \n",
       "2      3.0      True  02 23, 2015  A1YJWEXHQBWK2B  0700026657   \n",
       "3      2.0      True  02 20, 2015  A2204E1TH211HT  0700026657   \n",
       "4      5.0      True  12 25, 2014  A2RF5B5H74JLPE  0700026657   \n",
       "\n",
       "        reviewerName                                         reviewText  \\\n",
       "0        Ambrosia075  This game is a bit hard to get the hang of, bu...   \n",
       "1             travis  I played it a while but it was alright. The st...   \n",
       "2  Vincent G. Mezera                                           ok game.   \n",
       "3         Grandma KR  found the game a bit too complicated, not what...   \n",
       "4                jon  great game, I love it and have played it since...   \n",
       "\n",
       "                                       summary  unixReviewTime vote  ...  \\\n",
       "0                  but when you do it's great.      1445040000  NaN  ...   \n",
       "1  But in spite of that it was fun, I liked it      1437955200  NaN  ...   \n",
       "2                                  Three Stars      1424649600  NaN  ...   \n",
       "3                                    Two Stars      1424390400  NaN  ...   \n",
       "4                               love this game      1419465600  NaN  ...   \n",
       "\n",
       "  PlayStation_4  Wii Controllers Nintendo_DS PlayStation Xbox_One Xbox  \\\n",
       "0           0.0  0.0         0.0         0.0         0.0      0.0  0.0   \n",
       "1           0.0  0.0         0.0         0.0         0.0      0.0  0.0   \n",
       "2           0.0  0.0         0.0         0.0         0.0      0.0  0.0   \n",
       "3           0.0  0.0         0.0         0.0         0.0      0.0  0.0   \n",
       "4           0.0  0.0         0.0         0.0         0.0      0.0  0.0   \n",
       "\n",
       "  Game_Boy_Advance Nintendo_3DS_and_2DS Sony_PSP  \n",
       "0              0.0                  0.0      0.0  \n",
       "1              0.0                  0.0      0.0  \n",
       "2              0.0                  0.0      0.0  \n",
       "3              0.0                  0.0      0.0  \n",
       "4              0.0                  0.0      0.0  \n",
       "\n",
       "[5 rows x 50 columns]"
      ]
     },
     "execution_count": 315,
     "metadata": {},
     "output_type": "execute_result"
    }
   ],
   "source": [
    "video_games.head()"
   ]
  },
  {
   "cell_type": "markdown",
   "metadata": {},
   "source": [
    "# EDA"
   ]
  },
  {
   "cell_type": "markdown",
   "metadata": {},
   "source": [
    "## Ratings distribution"
   ]
  },
  {
   "cell_type": "code",
   "execution_count": 316,
   "metadata": {},
   "outputs": [
    {
     "data": {
      "application/vnd.plotly.v1+json": {
       "config": {
        "plotlyServerURL": "https://plot.ly"
       },
       "data": [
        {
         "alignmentgroup": "True",
         "hovertemplate": "variable=overall<br>index=%{x}<br>value=%{y}<extra></extra>",
         "legendgroup": "overall",
         "marker": {
          "color": "#636efa",
          "pattern": {
           "shape": ""
          }
         },
         "name": "overall",
         "offsetgroup": "overall",
         "orientation": "v",
         "showlegend": true,
         "textposition": "auto",
         "type": "bar",
         "x": [
          1,
          2,
          3,
          4,
          5
         ],
         "xaxis": "x",
         "y": [
          30883,
          24135,
          49146,
          93654,
          299759
         ],
         "yaxis": "y"
        }
       ],
       "layout": {
        "barmode": "relative",
        "legend": {
         "title": {
          "text": "variable"
         },
         "tracegroupgap": 0
        },
        "margin": {
         "t": 60
        },
        "template": {
         "data": {
          "bar": [
           {
            "error_x": {
             "color": "#2a3f5f"
            },
            "error_y": {
             "color": "#2a3f5f"
            },
            "marker": {
             "line": {
              "color": "#E5ECF6",
              "width": 0.5
             },
             "pattern": {
              "fillmode": "overlay",
              "size": 10,
              "solidity": 0.2
             }
            },
            "type": "bar"
           }
          ],
          "barpolar": [
           {
            "marker": {
             "line": {
              "color": "#E5ECF6",
              "width": 0.5
             },
             "pattern": {
              "fillmode": "overlay",
              "size": 10,
              "solidity": 0.2
             }
            },
            "type": "barpolar"
           }
          ],
          "carpet": [
           {
            "aaxis": {
             "endlinecolor": "#2a3f5f",
             "gridcolor": "white",
             "linecolor": "white",
             "minorgridcolor": "white",
             "startlinecolor": "#2a3f5f"
            },
            "baxis": {
             "endlinecolor": "#2a3f5f",
             "gridcolor": "white",
             "linecolor": "white",
             "minorgridcolor": "white",
             "startlinecolor": "#2a3f5f"
            },
            "type": "carpet"
           }
          ],
          "choropleth": [
           {
            "colorbar": {
             "outlinewidth": 0,
             "ticks": ""
            },
            "type": "choropleth"
           }
          ],
          "contour": [
           {
            "colorbar": {
             "outlinewidth": 0,
             "ticks": ""
            },
            "colorscale": [
             [
              0,
              "#0d0887"
             ],
             [
              0.1111111111111111,
              "#46039f"
             ],
             [
              0.2222222222222222,
              "#7201a8"
             ],
             [
              0.3333333333333333,
              "#9c179e"
             ],
             [
              0.4444444444444444,
              "#bd3786"
             ],
             [
              0.5555555555555556,
              "#d8576b"
             ],
             [
              0.6666666666666666,
              "#ed7953"
             ],
             [
              0.7777777777777778,
              "#fb9f3a"
             ],
             [
              0.8888888888888888,
              "#fdca26"
             ],
             [
              1,
              "#f0f921"
             ]
            ],
            "type": "contour"
           }
          ],
          "contourcarpet": [
           {
            "colorbar": {
             "outlinewidth": 0,
             "ticks": ""
            },
            "type": "contourcarpet"
           }
          ],
          "heatmap": [
           {
            "colorbar": {
             "outlinewidth": 0,
             "ticks": ""
            },
            "colorscale": [
             [
              0,
              "#0d0887"
             ],
             [
              0.1111111111111111,
              "#46039f"
             ],
             [
              0.2222222222222222,
              "#7201a8"
             ],
             [
              0.3333333333333333,
              "#9c179e"
             ],
             [
              0.4444444444444444,
              "#bd3786"
             ],
             [
              0.5555555555555556,
              "#d8576b"
             ],
             [
              0.6666666666666666,
              "#ed7953"
             ],
             [
              0.7777777777777778,
              "#fb9f3a"
             ],
             [
              0.8888888888888888,
              "#fdca26"
             ],
             [
              1,
              "#f0f921"
             ]
            ],
            "type": "heatmap"
           }
          ],
          "heatmapgl": [
           {
            "colorbar": {
             "outlinewidth": 0,
             "ticks": ""
            },
            "colorscale": [
             [
              0,
              "#0d0887"
             ],
             [
              0.1111111111111111,
              "#46039f"
             ],
             [
              0.2222222222222222,
              "#7201a8"
             ],
             [
              0.3333333333333333,
              "#9c179e"
             ],
             [
              0.4444444444444444,
              "#bd3786"
             ],
             [
              0.5555555555555556,
              "#d8576b"
             ],
             [
              0.6666666666666666,
              "#ed7953"
             ],
             [
              0.7777777777777778,
              "#fb9f3a"
             ],
             [
              0.8888888888888888,
              "#fdca26"
             ],
             [
              1,
              "#f0f921"
             ]
            ],
            "type": "heatmapgl"
           }
          ],
          "histogram": [
           {
            "marker": {
             "pattern": {
              "fillmode": "overlay",
              "size": 10,
              "solidity": 0.2
             }
            },
            "type": "histogram"
           }
          ],
          "histogram2d": [
           {
            "colorbar": {
             "outlinewidth": 0,
             "ticks": ""
            },
            "colorscale": [
             [
              0,
              "#0d0887"
             ],
             [
              0.1111111111111111,
              "#46039f"
             ],
             [
              0.2222222222222222,
              "#7201a8"
             ],
             [
              0.3333333333333333,
              "#9c179e"
             ],
             [
              0.4444444444444444,
              "#bd3786"
             ],
             [
              0.5555555555555556,
              "#d8576b"
             ],
             [
              0.6666666666666666,
              "#ed7953"
             ],
             [
              0.7777777777777778,
              "#fb9f3a"
             ],
             [
              0.8888888888888888,
              "#fdca26"
             ],
             [
              1,
              "#f0f921"
             ]
            ],
            "type": "histogram2d"
           }
          ],
          "histogram2dcontour": [
           {
            "colorbar": {
             "outlinewidth": 0,
             "ticks": ""
            },
            "colorscale": [
             [
              0,
              "#0d0887"
             ],
             [
              0.1111111111111111,
              "#46039f"
             ],
             [
              0.2222222222222222,
              "#7201a8"
             ],
             [
              0.3333333333333333,
              "#9c179e"
             ],
             [
              0.4444444444444444,
              "#bd3786"
             ],
             [
              0.5555555555555556,
              "#d8576b"
             ],
             [
              0.6666666666666666,
              "#ed7953"
             ],
             [
              0.7777777777777778,
              "#fb9f3a"
             ],
             [
              0.8888888888888888,
              "#fdca26"
             ],
             [
              1,
              "#f0f921"
             ]
            ],
            "type": "histogram2dcontour"
           }
          ],
          "mesh3d": [
           {
            "colorbar": {
             "outlinewidth": 0,
             "ticks": ""
            },
            "type": "mesh3d"
           }
          ],
          "parcoords": [
           {
            "line": {
             "colorbar": {
              "outlinewidth": 0,
              "ticks": ""
             }
            },
            "type": "parcoords"
           }
          ],
          "pie": [
           {
            "automargin": true,
            "type": "pie"
           }
          ],
          "scatter": [
           {
            "marker": {
             "colorbar": {
              "outlinewidth": 0,
              "ticks": ""
             }
            },
            "type": "scatter"
           }
          ],
          "scatter3d": [
           {
            "line": {
             "colorbar": {
              "outlinewidth": 0,
              "ticks": ""
             }
            },
            "marker": {
             "colorbar": {
              "outlinewidth": 0,
              "ticks": ""
             }
            },
            "type": "scatter3d"
           }
          ],
          "scattercarpet": [
           {
            "marker": {
             "colorbar": {
              "outlinewidth": 0,
              "ticks": ""
             }
            },
            "type": "scattercarpet"
           }
          ],
          "scattergeo": [
           {
            "marker": {
             "colorbar": {
              "outlinewidth": 0,
              "ticks": ""
             }
            },
            "type": "scattergeo"
           }
          ],
          "scattergl": [
           {
            "marker": {
             "colorbar": {
              "outlinewidth": 0,
              "ticks": ""
             }
            },
            "type": "scattergl"
           }
          ],
          "scattermapbox": [
           {
            "marker": {
             "colorbar": {
              "outlinewidth": 0,
              "ticks": ""
             }
            },
            "type": "scattermapbox"
           }
          ],
          "scatterpolar": [
           {
            "marker": {
             "colorbar": {
              "outlinewidth": 0,
              "ticks": ""
             }
            },
            "type": "scatterpolar"
           }
          ],
          "scatterpolargl": [
           {
            "marker": {
             "colorbar": {
              "outlinewidth": 0,
              "ticks": ""
             }
            },
            "type": "scatterpolargl"
           }
          ],
          "scatterternary": [
           {
            "marker": {
             "colorbar": {
              "outlinewidth": 0,
              "ticks": ""
             }
            },
            "type": "scatterternary"
           }
          ],
          "surface": [
           {
            "colorbar": {
             "outlinewidth": 0,
             "ticks": ""
            },
            "colorscale": [
             [
              0,
              "#0d0887"
             ],
             [
              0.1111111111111111,
              "#46039f"
             ],
             [
              0.2222222222222222,
              "#7201a8"
             ],
             [
              0.3333333333333333,
              "#9c179e"
             ],
             [
              0.4444444444444444,
              "#bd3786"
             ],
             [
              0.5555555555555556,
              "#d8576b"
             ],
             [
              0.6666666666666666,
              "#ed7953"
             ],
             [
              0.7777777777777778,
              "#fb9f3a"
             ],
             [
              0.8888888888888888,
              "#fdca26"
             ],
             [
              1,
              "#f0f921"
             ]
            ],
            "type": "surface"
           }
          ],
          "table": [
           {
            "cells": {
             "fill": {
              "color": "#EBF0F8"
             },
             "line": {
              "color": "white"
             }
            },
            "header": {
             "fill": {
              "color": "#C8D4E3"
             },
             "line": {
              "color": "white"
             }
            },
            "type": "table"
           }
          ]
         },
         "layout": {
          "annotationdefaults": {
           "arrowcolor": "#2a3f5f",
           "arrowhead": 0,
           "arrowwidth": 1
          },
          "autotypenumbers": "strict",
          "coloraxis": {
           "colorbar": {
            "outlinewidth": 0,
            "ticks": ""
           }
          },
          "colorscale": {
           "diverging": [
            [
             0,
             "#8e0152"
            ],
            [
             0.1,
             "#c51b7d"
            ],
            [
             0.2,
             "#de77ae"
            ],
            [
             0.3,
             "#f1b6da"
            ],
            [
             0.4,
             "#fde0ef"
            ],
            [
             0.5,
             "#f7f7f7"
            ],
            [
             0.6,
             "#e6f5d0"
            ],
            [
             0.7,
             "#b8e186"
            ],
            [
             0.8,
             "#7fbc41"
            ],
            [
             0.9,
             "#4d9221"
            ],
            [
             1,
             "#276419"
            ]
           ],
           "sequential": [
            [
             0,
             "#0d0887"
            ],
            [
             0.1111111111111111,
             "#46039f"
            ],
            [
             0.2222222222222222,
             "#7201a8"
            ],
            [
             0.3333333333333333,
             "#9c179e"
            ],
            [
             0.4444444444444444,
             "#bd3786"
            ],
            [
             0.5555555555555556,
             "#d8576b"
            ],
            [
             0.6666666666666666,
             "#ed7953"
            ],
            [
             0.7777777777777778,
             "#fb9f3a"
            ],
            [
             0.8888888888888888,
             "#fdca26"
            ],
            [
             1,
             "#f0f921"
            ]
           ],
           "sequentialminus": [
            [
             0,
             "#0d0887"
            ],
            [
             0.1111111111111111,
             "#46039f"
            ],
            [
             0.2222222222222222,
             "#7201a8"
            ],
            [
             0.3333333333333333,
             "#9c179e"
            ],
            [
             0.4444444444444444,
             "#bd3786"
            ],
            [
             0.5555555555555556,
             "#d8576b"
            ],
            [
             0.6666666666666666,
             "#ed7953"
            ],
            [
             0.7777777777777778,
             "#fb9f3a"
            ],
            [
             0.8888888888888888,
             "#fdca26"
            ],
            [
             1,
             "#f0f921"
            ]
           ]
          },
          "colorway": [
           "#636efa",
           "#EF553B",
           "#00cc96",
           "#ab63fa",
           "#FFA15A",
           "#19d3f3",
           "#FF6692",
           "#B6E880",
           "#FF97FF",
           "#FECB52"
          ],
          "font": {
           "color": "#2a3f5f"
          },
          "geo": {
           "bgcolor": "white",
           "lakecolor": "white",
           "landcolor": "#E5ECF6",
           "showlakes": true,
           "showland": true,
           "subunitcolor": "white"
          },
          "hoverlabel": {
           "align": "left"
          },
          "hovermode": "closest",
          "mapbox": {
           "style": "light"
          },
          "paper_bgcolor": "white",
          "plot_bgcolor": "#E5ECF6",
          "polar": {
           "angularaxis": {
            "gridcolor": "white",
            "linecolor": "white",
            "ticks": ""
           },
           "bgcolor": "#E5ECF6",
           "radialaxis": {
            "gridcolor": "white",
            "linecolor": "white",
            "ticks": ""
           }
          },
          "scene": {
           "xaxis": {
            "backgroundcolor": "#E5ECF6",
            "gridcolor": "white",
            "gridwidth": 2,
            "linecolor": "white",
            "showbackground": true,
            "ticks": "",
            "zerolinecolor": "white"
           },
           "yaxis": {
            "backgroundcolor": "#E5ECF6",
            "gridcolor": "white",
            "gridwidth": 2,
            "linecolor": "white",
            "showbackground": true,
            "ticks": "",
            "zerolinecolor": "white"
           },
           "zaxis": {
            "backgroundcolor": "#E5ECF6",
            "gridcolor": "white",
            "gridwidth": 2,
            "linecolor": "white",
            "showbackground": true,
            "ticks": "",
            "zerolinecolor": "white"
           }
          },
          "shapedefaults": {
           "line": {
            "color": "#2a3f5f"
           }
          },
          "ternary": {
           "aaxis": {
            "gridcolor": "white",
            "linecolor": "white",
            "ticks": ""
           },
           "baxis": {
            "gridcolor": "white",
            "linecolor": "white",
            "ticks": ""
           },
           "bgcolor": "#E5ECF6",
           "caxis": {
            "gridcolor": "white",
            "linecolor": "white",
            "ticks": ""
           }
          },
          "title": {
           "x": 0.05
          },
          "xaxis": {
           "automargin": true,
           "gridcolor": "white",
           "linecolor": "white",
           "ticks": "",
           "title": {
            "standoff": 15
           },
           "zerolinecolor": "white",
           "zerolinewidth": 2
          },
          "yaxis": {
           "automargin": true,
           "gridcolor": "white",
           "linecolor": "white",
           "ticks": "",
           "title": {
            "standoff": 15
           },
           "zerolinecolor": "white",
           "zerolinewidth": 2
          }
         }
        },
        "xaxis": {
         "anchor": "y",
         "domain": [
          0,
          1
         ],
         "title": {
          "text": "index"
         }
        },
        "yaxis": {
         "anchor": "x",
         "domain": [
          0,
          1
         ],
         "title": {
          "text": "value"
         }
        }
       }
      }
     },
     "metadata": {},
     "output_type": "display_data"
    }
   ],
   "source": [
    "px.bar(video_games[['asin', 'overall']].groupby('overall').agg({'overall': 'count'}))"
   ]
  },
  {
   "cell_type": "code",
   "execution_count": 149,
   "metadata": {},
   "outputs": [],
   "source": [
    "def summary(data: pd.DataFrame) -> None:\n",
    "    from IPython.display import display, Markdown\n",
    "\n",
    "    unique_games_count = video_games[\"asin\"].nunique()\n",
    "    unique_users = video_games['reviewerID'].nunique()\n",
    "    average_rating = video_games['overall'].mean()\n",
    "    median_rating = video_games['overall'].median()\n",
    "    \n",
    "    games_by_review_count_and_overall_mean_rating = video_games[['asin', 'overall']].\\\n",
    "        groupby('asin').\\\n",
    "        agg(overall_mean=('overall', 'mean'), overall_count=('overall', 'count'))        \n",
    "    five_most_lovable_game_str = '\\n'.join([f'    1. Game \"{idx}\" has {item[\"overall_count\"]} reviews with average rating {item[\"overall_mean\"]:.2f}' for idx, item in games_by_review_count_and_overall_mean_rating.sort_values(['overall_mean', 'overall_count'], ascending=False)[:5].iterrows()])\n",
    "    five_less_lovable_game_str = '\\n'.join([f'    1. Game \"{idx}\" has {item[\"overall_count\"]} reviews with average rating {item[\"overall_mean\"]:.2f}' for idx, item in games_by_review_count_and_overall_mean_rating.sort_values(['overall_mean', 'overall_count'], ascending=[True, False])[:5].iterrows()])\n",
    "\n",
    "    games_per_user = video_games[['reviewerID', 'asin']].groupby('reviewerID').agg({'asin': 'count'})\n",
    "    percentiles = [5, 25, 50, 75, 95]\n",
    "    percentiles_values = np.percentile(games_per_user['asin'], percentiles)\n",
    "    percentiles_str = '\\n'.join([f'   1. {percentiles[i]} user percentile reviewed {percentiles_values[i]} games' for i in range(len(percentiles))])\n",
    "\n",
    "    five_most_reviewed_games = video_games[['asin', 'overall']].groupby('asin').agg(asin_count=('asin', 'count'), overall_mean=('overall', 'mean')).sort_values('asin_count', ascending=False)\n",
    "    five_most_reviewed_games_str = '\\n'.join([f'    1. Game \"{idx}\" has {item[\"asin_count\"]} reviews with average rating {item[\"overall_mean\"]:.2f}' for idx, item in five_most_reviewed_games[:5].iterrows()])\n",
    "\n",
    "    report = f'''## Summary report\n",
    "\n",
    "1. There are {unique_games_count} games\n",
    "2. There are {unique_users} reviewers\n",
    "4. Average rating is {average_rating:.2f}\n",
    "5. Median rating is {median_rating:.2f}\n",
    "6. Five most lovable games (games with largest review count and best ratings)\n",
    "{five_most_lovable_game_str}\n",
    "7. Five less lovable games (games with largest review count and worst ratings)\n",
    "{five_less_lovable_game_str}\n",
    "8. Most reviewed games\n",
    "{five_most_reviewed_games_str}\n",
    "5. How many games user reviewed:\n",
    "{percentiles_str}\n",
    "'''\n",
    "    display(Markdown(report))"
   ]
  },
  {
   "cell_type": "code",
   "execution_count": 150,
   "metadata": {},
   "outputs": [
    {
     "data": {
      "text/markdown": [
       "## Summary report\n",
       "\n",
       "1. There are 17408 games\n",
       "2. There are 55223 reviewers\n",
       "4. Average rating is 4.22\n",
       "5. Median rating is 5.00\n",
       "6. Five most lovable games (games with largest review count and best ratings)\n",
       "    1. Game \"B00104UBY0\" has 46.0 reviews with average rating 5.00\n",
       "    1. Game \"B00PY6MSTQ\" has 45.0 reviews with average rating 5.00\n",
       "    1. Game \"B0010LC6QE\" has 28.0 reviews with average rating 5.00\n",
       "    1. Game \"B001FWYDWS\" has 28.0 reviews with average rating 5.00\n",
       "    1. Game \"B019QGFNIC\" has 25.0 reviews with average rating 5.00\n",
       "7. Five less lovable games (games with largest review count and worst ratings)\n",
       "    1. Game \"B000WZ7OD4\" has 1.0 reviews with average rating 1.00\n",
       "    1. Game \"B000XJD33E\" has 1.0 reviews with average rating 1.00\n",
       "    1. Game \"B001584XZO\" has 1.0 reviews with average rating 1.00\n",
       "    1. Game \"B00MEXP4UC\" has 12.0 reviews with average rating 1.17\n",
       "    1. Game \"B00006IKBL\" has 6.0 reviews with average rating 1.17\n",
       "8. Most reviewed games\n",
       "    1. Game \"B00178630A\" has 1381.0 reviews with average rating 2.82\n",
       "    1. Game \"B000ZK9QCS\" has 905.0 reviews with average rating 4.63\n",
       "    1. Game \"B000XJNTNS\" has 834.0 reviews with average rating 4.63\n",
       "    1. Game \"B00JK00S0S\" has 783.0 reviews with average rating 4.69\n",
       "    1. Game \"B000ZKA0J6\" has 774.0 reviews with average rating 3.56\n",
       "5. How many games user reviewed:\n",
       "   1. 5 user percentile reviewed 5.0 games\n",
       "   1. 25 user percentile reviewed 5.0 games\n",
       "   1. 50 user percentile reviewed 6.0 games\n",
       "   1. 75 user percentile reviewed 9.0 games\n",
       "   1. 95 user percentile reviewed 20.0 games\n"
      ],
      "text/plain": [
       "<IPython.core.display.Markdown object>"
      ]
     },
     "metadata": {},
     "output_type": "display_data"
    }
   ],
   "source": [
    "summary(video_games) \n"
   ]
  },
  {
   "cell_type": "code",
   "execution_count": 325,
   "metadata": {},
   "outputs": [
    {
     "data": {
      "text/plain": [
       "array([\"With no access to the actual content to the game and the launch server being broken, it really hurt my trust as a consumer.  Any game that requires a log-in I'm just going to avoid, especially one from this company who should have enough experience to have had the foresight to prepare for this kind of busy launch.\",\n",
       "       'Awesome.', 'update of previous versions', ...,\n",
       "       \"Awesome Product! Can't go wrong. Shipping was fast. No complaints here.\",\n",
       "       \"It's a good game.\", 'Received as expected.'], dtype=object)"
      ]
     },
     "execution_count": 325,
     "metadata": {},
     "output_type": "execute_result"
    }
   ],
   "source": [
    "video_games[video_games['asin'] == 'B00178630A']['reviewText'].values"
   ]
  },
  {
   "cell_type": "code",
   "execution_count": 157,
   "metadata": {},
   "outputs": [
    {
     "data": {
      "text/html": [
       "<div>\n",
       "<style scoped>\n",
       "    .dataframe tbody tr th:only-of-type {\n",
       "        vertical-align: middle;\n",
       "    }\n",
       "\n",
       "    .dataframe tbody tr th {\n",
       "        vertical-align: top;\n",
       "    }\n",
       "\n",
       "    .dataframe thead th {\n",
       "        text-align: right;\n",
       "    }\n",
       "</style>\n",
       "<table border=\"1\" class=\"dataframe\">\n",
       "  <thead>\n",
       "    <tr style=\"text-align: right;\">\n",
       "      <th></th>\n",
       "      <th>overall</th>\n",
       "      <th>verified</th>\n",
       "      <th>reviewTime</th>\n",
       "      <th>reviewerID</th>\n",
       "      <th>asin</th>\n",
       "      <th>reviewerName</th>\n",
       "      <th>reviewText</th>\n",
       "      <th>summary</th>\n",
       "      <th>unixReviewTime</th>\n",
       "      <th>vote</th>\n",
       "      <th>style</th>\n",
       "      <th>image</th>\n",
       "    </tr>\n",
       "  </thead>\n",
       "  <tbody>\n",
       "    <tr>\n",
       "      <th>46</th>\n",
       "      <td>4.0</td>\n",
       "      <td>True</td>\n",
       "      <td>02 23, 2017</td>\n",
       "      <td>AQQQ3IA92VBGR</td>\n",
       "      <td>0804161380</td>\n",
       "      <td>Steven Rea</td>\n",
       "      <td>The metal bookmark has a couple of weird flaws...</td>\n",
       "      <td>Nice set</td>\n",
       "      <td>1487808000</td>\n",
       "      <td>NaN</td>\n",
       "      <td>{'Format:': ' Hardcover'}</td>\n",
       "      <td>NaN</td>\n",
       "    </tr>\n",
       "    <tr>\n",
       "      <th>47</th>\n",
       "      <td>5.0</td>\n",
       "      <td>True</td>\n",
       "      <td>01 23, 2017</td>\n",
       "      <td>A1DWHVHU20K6RH</td>\n",
       "      <td>0804161380</td>\n",
       "      <td>D Comrey</td>\n",
       "      <td>Awesome</td>\n",
       "      <td>Five Stars</td>\n",
       "      <td>1485129600</td>\n",
       "      <td>NaN</td>\n",
       "      <td>{'Format:': ' Hardcover'}</td>\n",
       "      <td>NaN</td>\n",
       "    </tr>\n",
       "    <tr>\n",
       "      <th>48</th>\n",
       "      <td>5.0</td>\n",
       "      <td>True</td>\n",
       "      <td>08 27, 2016</td>\n",
       "      <td>A2RPG0G1UGUFKL</td>\n",
       "      <td>0804161380</td>\n",
       "      <td>Amazon Customer</td>\n",
       "      <td>Glad I got this for my collection</td>\n",
       "      <td>Five Stars</td>\n",
       "      <td>1472256000</td>\n",
       "      <td>NaN</td>\n",
       "      <td>{'Format:': ' Hardcover'}</td>\n",
       "      <td>NaN</td>\n",
       "    </tr>\n",
       "    <tr>\n",
       "      <th>49</th>\n",
       "      <td>5.0</td>\n",
       "      <td>True</td>\n",
       "      <td>04 18, 2016</td>\n",
       "      <td>A1U08MKZHEMMRC</td>\n",
       "      <td>0804161380</td>\n",
       "      <td>Wadev3</td>\n",
       "      <td>Very nicely put together.  Crisp and clean and...</td>\n",
       "      <td>Five Stars</td>\n",
       "      <td>1460937600</td>\n",
       "      <td>NaN</td>\n",
       "      <td>{'Format:': ' Hardcover'}</td>\n",
       "      <td>NaN</td>\n",
       "    </tr>\n",
       "    <tr>\n",
       "      <th>50</th>\n",
       "      <td>5.0</td>\n",
       "      <td>True</td>\n",
       "      <td>03 29, 2016</td>\n",
       "      <td>A2CJJSZGRCTBQ0</td>\n",
       "      <td>0804161380</td>\n",
       "      <td>Alejandro Garcia</td>\n",
       "      <td>The box it's in perfect condition and the book...</td>\n",
       "      <td>The box it's in perfect condition and the book...</td>\n",
       "      <td>1459209600</td>\n",
       "      <td>NaN</td>\n",
       "      <td>{'Format:': ' Hardcover'}</td>\n",
       "      <td>NaN</td>\n",
       "    </tr>\n",
       "    <tr>\n",
       "      <th>...</th>\n",
       "      <td>...</td>\n",
       "      <td>...</td>\n",
       "      <td>...</td>\n",
       "      <td>...</td>\n",
       "      <td>...</td>\n",
       "      <td>...</td>\n",
       "      <td>...</td>\n",
       "      <td>...</td>\n",
       "      <td>...</td>\n",
       "      <td>...</td>\n",
       "      <td>...</td>\n",
       "      <td>...</td>\n",
       "    </tr>\n",
       "    <tr>\n",
       "      <th>497564</th>\n",
       "      <td>5.0</td>\n",
       "      <td>True</td>\n",
       "      <td>04 11, 2018</td>\n",
       "      <td>A1VK22JLEHMMY8</td>\n",
       "      <td>B01HDJFJOM</td>\n",
       "      <td>Amazon Customer</td>\n",
       "      <td>I have to say for the price it was well worth ...</td>\n",
       "      <td>Farming Simulator 17</td>\n",
       "      <td>1523404800</td>\n",
       "      <td>3</td>\n",
       "      <td>{'Platform:': ' PC'}</td>\n",
       "      <td>NaN</td>\n",
       "    </tr>\n",
       "    <tr>\n",
       "      <th>497565</th>\n",
       "      <td>5.0</td>\n",
       "      <td>True</td>\n",
       "      <td>08 1, 2018</td>\n",
       "      <td>A213MVKPFZ8SCW</td>\n",
       "      <td>B01HDJFJLK</td>\n",
       "      <td>mark r.</td>\n",
       "      <td>the kides love this game.</td>\n",
       "      <td>Five Stars</td>\n",
       "      <td>1533081600</td>\n",
       "      <td>NaN</td>\n",
       "      <td>{'Platform:': ' PlayStation 4'}</td>\n",
       "      <td>NaN</td>\n",
       "    </tr>\n",
       "    <tr>\n",
       "      <th>497573</th>\n",
       "      <td>3.0</td>\n",
       "      <td>True</td>\n",
       "      <td>08 20, 2018</td>\n",
       "      <td>A1RS06313BL6WN</td>\n",
       "      <td>B01HH6JEOC</td>\n",
       "      <td>Tom Stopsign</td>\n",
       "      <td>Okay stuff.</td>\n",
       "      <td>Three Stars</td>\n",
       "      <td>1534723200</td>\n",
       "      <td>NaN</td>\n",
       "      <td>{'Edition:': ' Kids Room', 'Platform:': ' PC O...</td>\n",
       "      <td>NaN</td>\n",
       "    </tr>\n",
       "    <tr>\n",
       "      <th>497574</th>\n",
       "      <td>3.0</td>\n",
       "      <td>True</td>\n",
       "      <td>08 7, 2017</td>\n",
       "      <td>ACIZ77IGIX2JL</td>\n",
       "      <td>B01HH6JEOC</td>\n",
       "      <td>Era</td>\n",
       "      <td>This does add some kids room things that are v...</td>\n",
       "      <td>Only buy on sale.</td>\n",
       "      <td>1502064000</td>\n",
       "      <td>NaN</td>\n",
       "      <td>{'Edition:': ' Kids Room', 'Platform:': ' PC O...</td>\n",
       "      <td>NaN</td>\n",
       "    </tr>\n",
       "    <tr>\n",
       "      <th>497575</th>\n",
       "      <td>4.0</td>\n",
       "      <td>False</td>\n",
       "      <td>08 5, 2018</td>\n",
       "      <td>A34GG58TJ1A3SH</td>\n",
       "      <td>B01HIZF7XE</td>\n",
       "      <td>seamonkey10</td>\n",
       "      <td>I think I originally began playing Bioshock se...</td>\n",
       "      <td>It's Okay, Nothing Profound</td>\n",
       "      <td>1533427200</td>\n",
       "      <td>NaN</td>\n",
       "      <td>{'Edition:': ' Collection', 'Platform:': ' Xbo...</td>\n",
       "      <td>NaN</td>\n",
       "    </tr>\n",
       "  </tbody>\n",
       "</table>\n",
       "<p>289237 rows × 12 columns</p>\n",
       "</div>"
      ],
      "text/plain": [
       "        overall  verified   reviewTime      reviewerID        asin  \\\n",
       "46          4.0      True  02 23, 2017   AQQQ3IA92VBGR  0804161380   \n",
       "47          5.0      True  01 23, 2017  A1DWHVHU20K6RH  0804161380   \n",
       "48          5.0      True  08 27, 2016  A2RPG0G1UGUFKL  0804161380   \n",
       "49          5.0      True  04 18, 2016  A1U08MKZHEMMRC  0804161380   \n",
       "50          5.0      True  03 29, 2016  A2CJJSZGRCTBQ0  0804161380   \n",
       "...         ...       ...          ...             ...         ...   \n",
       "497564      5.0      True  04 11, 2018  A1VK22JLEHMMY8  B01HDJFJOM   \n",
       "497565      5.0      True   08 1, 2018  A213MVKPFZ8SCW  B01HDJFJLK   \n",
       "497573      3.0      True  08 20, 2018  A1RS06313BL6WN  B01HH6JEOC   \n",
       "497574      3.0      True   08 7, 2017   ACIZ77IGIX2JL  B01HH6JEOC   \n",
       "497575      4.0     False   08 5, 2018  A34GG58TJ1A3SH  B01HIZF7XE   \n",
       "\n",
       "            reviewerName                                         reviewText  \\\n",
       "46            Steven Rea  The metal bookmark has a couple of weird flaws...   \n",
       "47              D Comrey                                            Awesome   \n",
       "48       Amazon Customer                  Glad I got this for my collection   \n",
       "49                Wadev3  Very nicely put together.  Crisp and clean and...   \n",
       "50      Alejandro Garcia  The box it's in perfect condition and the book...   \n",
       "...                  ...                                                ...   \n",
       "497564   Amazon Customer  I have to say for the price it was well worth ...   \n",
       "497565           mark r.                          the kides love this game.   \n",
       "497573      Tom Stopsign                                        Okay stuff.   \n",
       "497574               Era  This does add some kids room things that are v...   \n",
       "497575       seamonkey10  I think I originally began playing Bioshock se...   \n",
       "\n",
       "                                                  summary  unixReviewTime  \\\n",
       "46                                               Nice set      1487808000   \n",
       "47                                             Five Stars      1485129600   \n",
       "48                                             Five Stars      1472256000   \n",
       "49                                             Five Stars      1460937600   \n",
       "50      The box it's in perfect condition and the book...      1459209600   \n",
       "...                                                   ...             ...   \n",
       "497564                               Farming Simulator 17      1523404800   \n",
       "497565                                         Five Stars      1533081600   \n",
       "497573                                        Three Stars      1534723200   \n",
       "497574                                  Only buy on sale.      1502064000   \n",
       "497575                        It's Okay, Nothing Profound      1533427200   \n",
       "\n",
       "       vote                                              style image  \n",
       "46      NaN                          {'Format:': ' Hardcover'}   NaN  \n",
       "47      NaN                          {'Format:': ' Hardcover'}   NaN  \n",
       "48      NaN                          {'Format:': ' Hardcover'}   NaN  \n",
       "49      NaN                          {'Format:': ' Hardcover'}   NaN  \n",
       "50      NaN                          {'Format:': ' Hardcover'}   NaN  \n",
       "...     ...                                                ...   ...  \n",
       "497564    3                               {'Platform:': ' PC'}   NaN  \n",
       "497565  NaN                    {'Platform:': ' PlayStation 4'}   NaN  \n",
       "497573  NaN  {'Edition:': ' Kids Room', 'Platform:': ' PC O...   NaN  \n",
       "497574  NaN  {'Edition:': ' Kids Room', 'Platform:': ' PC O...   NaN  \n",
       "497575  NaN  {'Edition:': ' Collection', 'Platform:': ' Xbo...   NaN  \n",
       "\n",
       "[289237 rows x 12 columns]"
      ]
     },
     "execution_count": 157,
     "metadata": {},
     "output_type": "execute_result"
    }
   ],
   "source": [
    "video_games[~video_games['style'].isna()]"
   ]
  }
 ],
 "metadata": {
  "interpreter": {
   "hash": "2e922983c817b26f3ec6844b3d9ffab68008f0c6f985cc75631de65c829714fe"
  },
  "kernelspec": {
   "display_name": "Python 3.9.5 64-bit (system)",
   "language": "python",
   "name": "python3"
  },
  "language_info": {
   "codemirror_mode": {
    "name": "ipython",
    "version": 3
   },
   "file_extension": ".py",
   "mimetype": "text/x-python",
   "name": "python",
   "nbconvert_exporter": "python",
   "pygments_lexer": "ipython3",
   "version": "3.9.5"
  },
  "orig_nbformat": 4
 },
 "nbformat": 4,
 "nbformat_minor": 2
}
